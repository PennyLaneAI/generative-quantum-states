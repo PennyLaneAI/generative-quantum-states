{
 "cells": [
  {
   "cell_type": "code",
   "execution_count": null,
   "id": "3a276b1f-7008-4aff-91a4-ece7c10cd61d",
   "metadata": {},
   "outputs": [],
   "source": [
    "import fnmatch\n",
    "import itertools as it\n",
    "import json\n",
    "import matplotlib.pyplot as plt\n",
    "import matplotlib as mpl\n",
    "from matplotlib import cm\n",
    "from mpl_toolkits.axes_grid1 import make_axes_locatable\n",
    "import networkx as nx\n",
    "import numpy as np\n",
    "import os\n",
    "import pandas as pd\n",
    "import seaborn as sns\n",
    "\n",
    "%matplotlib inline"
   ]
  },
  {
   "cell_type": "code",
   "execution_count": null,
   "id": "eb6814f2-aa38-4f3f-be77-43ea61939410",
   "metadata": {},
   "outputs": [],
   "source": [
    "# font styles\n",
    "font_family = \"Times\"\n",
    "fs_title = 20\n",
    "fs_label = 18\n",
    "fs_small = 14\n",
    "\n",
    "# init mpl plot style\n",
    "sns.set_style('ticks')\n",
    "mpl.rcParams[\"font.family\"] = font_family\n",
    "mpl.rcParams[\"mathtext.fontset\"] = \"stix\"\n",
    "colors = sns.color_palette()\n",
    "fig_height = 6"
   ]
  },
  {
   "cell_type": "code",
   "execution_count": null,
   "id": "727bd2f3-219d-4d00-aed3-931ab4b7c522",
   "metadata": {},
   "outputs": [],
   "source": [
    "dir_pattern = '../logs/2d_heisenberg_checkpoints/conditional_heisenberg_{rows}x{cols}/{model_id}/ns{ns}/{train_id}/'\n",
    "figures_dir = './figures/'"
   ]
  },
  {
   "cell_type": "code",
   "execution_count": null,
   "id": "d2843192-dffc-491b-b5eb-883ea815f129",
   "metadata": {},
   "outputs": [],
   "source": [
    "train_ids = {\n",
    "    \"2x5\": \"iter100_lr0.001_wd0.0_bs100_dropout0.1_samplestruct2_lrschedulewarmup_cosine13102022-110204\",\n",
    "    \"2x6\": \"iter100_lr0.001_wd0.0_bs100_dropout0.1_samplestruct2_lrschedulewarmup_cosine13102022-110404\",\n",
    "    \"2x7\": \"iter100_lr0.001_wd0.0_bs100_dropout0.1_samplestruct2_lrschedulewarmup_cosine13102022-110604\",\n",
    "    \"2x8\": \"iter100_lr0.001_wd0.0_bs100_dropout0.1_samplestruct2_lrschedulewarmup_cosine13102022-110704\",\n",
    "    \"2x9\": \"iter100_lr0.001_wd0.0_bs100_dropout0.1_samplestruct2_lrschedulewarmup_cosine13102022-110815\",\n",
    "    \"4x4\": \"iter100_lr0.001_wd0.0_bs100_dropout0.1_samplestruct2_lrschedulewarmup_cosine13102022-181536\",\n",
    "    \"4x5\": \"iter100_lr0.001_wd0.0_bs100_dropout0.1_samplestruct2_lrschedulewarmup_cosine13102022-181556\",\n",
    "    \"5x5\": \"iter100_lr0.001_wd0.0_bs100_dropout0.1_samplestruct2_lrschedulewarmup_cosine13102022-181610\",\n",
    "    \"6x5\": \"iter100_lr0.001_wd0.0_bs100_dropout0.1_samplestruct2_lrschedulewarmup_cosine13102022-181649\",\n",
    "    \"7x5\": \"iter100_lr0.001_wd0.0_bs100_dropout0.1_samplestruct2_lrschedulewarmup_cosine13102022-181750\",\n",
    "    \"8x5\": \"iter100_lr0.001_wd0.0_bs100_dropout0.1_samplestruct2_lrschedulewarmup_cosine13102022-182303\",\n",
    "    \"9x5\": \"iter100_lr0.001_wd0.0_bs100_dropout0.1_samplestruct2_lrschedulewarmup_cosine13102022-182505\",\n",
    "}"
   ]
  },
  {
   "cell_type": "code",
   "execution_count": null,
   "id": "ad40825b-da3c-430c-babc-95e0f384dd8b",
   "metadata": {},
   "outputs": [],
   "source": [
    "save_figures = True\n",
    "file_type = 'pdf'\n",
    "\n",
    "# get system\n",
    "model_id = 'gcn_proj_3_16-transformer_l4_d128_h4_featone_hot'\n",
    "rows = 2\n",
    "cols = 9\n",
    "ns = 1000\n",
    "snapshots = 20000\n",
    "split = \"test\"\n",
    "tick_multiples = 2\n",
    "\n",
    "train_id = train_ids[f\"{rows}x{cols}\"]\n",
    "\n",
    "# data and results directories\n",
    "res_dir = dir_pattern.format(rows=rows, cols=cols, model_id=model_id, ns=ns, train_id=train_id, split=split)\n",
    "model_properties_dir = os.path.join(res_dir, 'properties', split, 'model')\n",
    "shadow_properties_dir = os.path.join(res_dir, 'properties', split, 'shadow')\n",
    "data_dir = os.path.join(res_dir, 'data', f'{rows}x{cols}', split)\n",
    "\n",
    "# list of hamiltonian ids\n",
    "correlation_mse_file = os.path.join(res_dir, 'properties', split, 'model', 'model_correlations_mse.json')\n",
    "\n",
    "with open(correlation_mse_file, 'r') as f:\n",
    "    errors = json.load(f)\n",
    "\n",
    "sorted_hamiltonian_ids = [k for k, _ in sorted(errors.items(), key=lambda item: item[1])]\n",
    "best_hamiltonian_id = sorted_hamiltonian_ids[0]"
   ]
  },
  {
   "cell_type": "markdown",
   "id": "b0197ad9-e943-46a2-9d23-af3294f75d07",
   "metadata": {},
   "source": [
    "# Coupling Graph"
   ]
  },
  {
   "cell_type": "code",
   "execution_count": null,
   "id": "3318ad4c-6aab-47b6-a02e-9085efe0b327",
   "metadata": {},
   "outputs": [],
   "source": [
    "def plot_couplings(couplings, rows, cols, node_size, figsize, save_as=None):\n",
    "    fig, ax = plt.subplots(1, 1, figsize=figsize)\n",
    "    graph = nx.from_numpy_matrix(np.matrix(couplings), create_using=nx.DiGraph)\n",
    "    mapping = {i: i + 1 for i in graph.nodes}\n",
    "    graph = nx.relabel_nodes(graph, mapping)\n",
    "    pos = {i: ((i-1) % cols, -((i-1) // cols)) for i in graph.nodes()}\n",
    "    edge_widths = [(x + 1) ** 2 for x in list(nx.get_edge_attributes(graph, \"weight\").values())]\n",
    "    \n",
    "    edges, weights = zip(*nx.get_edge_attributes(graph,'weight').items())\n",
    "\n",
    "    nx.draw(\n",
    "        graph, pos, node_color=\"white\", with_labels=True, font_color=\"black\", edge_cmap=plt.cm.Blues,\n",
    "        node_size=node_size, width=edge_widths, horizontalalignment='center', edgecolors=\"black\", edgelist=edges, edge_color=weights,\n",
    "        arrows=False, ax=ax, verticalalignment='center_baseline', font_size=fs_small, font_family=font_family\n",
    "    )\n",
    "    \n",
    "    if save_as is not None:\n",
    "        folder, fn = os.path.split(save_as)\n",
    "        \n",
    "        if not os.path.exists(folder):\n",
    "            os.makedirs(folder)\n",
    "            \n",
    "        plt.savefig(save_as, bbox_inches='tight', pad_inches=0.0, dpi=200)\n",
    "        plt.close(fig)"
   ]
  },
  {
   "cell_type": "code",
   "execution_count": null,
   "id": "055e1969-1dd5-4ac3-bf3a-e05948136cfd",
   "metadata": {},
   "outputs": [],
   "source": [
    "# plot couplings\n",
    "scale = 0.5\n",
    "\n",
    "save_as = None\n",
    "if save_figures:\n",
    "    save_as = os.path.join(figures_dir, f'2d_heisenberg/2d_heisenberg_{split}_coupling_{rows}x{cols}_{best_hamiltonian_id}.{file_type}')\n",
    "    \n",
    "coupling_matrix = np.load(os.path.join(data_dir, f'coupling_matrix_id{best_hamiltonian_id}.npy'))\n",
    "plot_couplings(coupling_matrix, rows, cols, figsize=(scale * fig_height * (cols / rows), scale * fig_height), node_size=700, save_as=save_as)"
   ]
  },
  {
   "cell_type": "markdown",
   "id": "7bbbda5b-7ee2-4792-9169-6e8d8e19cc6a",
   "metadata": {},
   "source": [
    "# Two point correlation functions"
   ]
  },
  {
   "cell_type": "code",
   "execution_count": null,
   "id": "d6c01481-dce1-4348-8fca-5021ccf4a425",
   "metadata": {},
   "outputs": [],
   "source": [
    "def _make_subplot_correlation(ax, data, x_tick_locs, x_tick_marks, y_tick_locs, y_tick_marks, label, cmap):\n",
    "    im = ax.imshow(data, cmap=plt.get_cmap(cmap), vmin=-1, vmax=1)\n",
    "    ax.xaxis.tick_top()\n",
    "    ax.yaxis.tick_left()\n",
    "    ax.xaxis.set_ticks(x_tick_locs, x_tick_marks, fontsize=fs_small)\n",
    "    ax.yaxis.set_ticks(y_tick_locs, y_tick_marks, fontsize=fs_small)\n",
    "    ax.set_xlabel(label, fontsize=fs_label, labelpad=10)\n",
    "\n",
    "    for _,s in ax.spines.items():\n",
    "        s.set_color('white')\n",
    "    \n",
    "    return im\n",
    "    \n",
    "\n",
    "def plot_correlation(cm_true, cm_pred, rows, cols, figsize, title=None, save_as=None, cmap='RdBu', tick_multiples=5, plot_error=True):\n",
    "    fig, axes = plt.subplots(1, 3 if plot_error else 2, figsize=figsize)\n",
    "    tick_locs = np.array([i for i in np.arange(tick_multiples, rows * cols + 1, tick_multiples) - 1] ) # + [rows * cols - 1]\n",
    "    tick_marks = tick_locs + 1\n",
    "    \n",
    "    # True Correlation Function\n",
    "    im = _make_subplot_correlation(axes[0], cm_true, tick_locs, tick_marks, tick_locs, tick_marks, \"True Correlation Function\", cmap)\n",
    "        \n",
    "    # Model Prediction\n",
    "    _make_subplot_correlation(axes[1], cm_pred, tick_locs, tick_marks, [], [], \"Transformer Prediction\", cmap)\n",
    "        \n",
    "    # Absolute Error\n",
    "    if plot_error:\n",
    "        _make_subplot_correlation(axes[2], np.abs(cm_pred - cm_true), tick_locs, tick_marks, [], [], \"Transformer Absolute Error\", cmap)\n",
    "    \n",
    "    plt.subplots_adjust(wspace=0.05, hspace=0.02)\n",
    "        \n",
    "    # colorbar\n",
    "    bar = fig.colorbar(im, pad=0.01, shrink=0.85, ax=axes.ravel().tolist())\n",
    "    bar.set_label(r\"$C_{ij}$\", fontsize=fs_label, rotation=0, labelpad=20)\n",
    "    bar.ax.tick_params(labelsize=fs_small)\n",
    "\n",
    "    for _,s in bar.ax.spines.items():\n",
    "        s.set_color('white')\n",
    "    \n",
    "    if title is not None:\n",
    "        fig.suptitle(title, fontsize=fs_title, y=0.95)\n",
    "    \n",
    "    if save_as is not None:\n",
    "        folder, fn = os.path.split(save_as)\n",
    "        \n",
    "        if not os.path.exists(folder):\n",
    "            os.makedirs(folder)\n",
    "            \n",
    "        plt.savefig(save_as, bbox_inches='tight', pad_inches=0.1, dpi=200)\n",
    "        plt.close(fig)"
   ]
  },
  {
   "cell_type": "code",
   "execution_count": null,
   "id": "608263ed-b949-4d31-ac36-8c8a975652e4",
   "metadata": {},
   "outputs": [],
   "source": [
    "def make_correlation_plots(res_dir, rows, cols, ntrain, split, idx, figsize, model_id, train_id, snapshots, \n",
    "                           title=None, save_as=None, cmap='RdBu', tick_multiples=5, plot_error=True):  \n",
    "    cmat_true = np.load(os.path.join(data_dir, f'correlation_matrix_id{idx}.npy'))\n",
    "    cmat_pred = np.load(os.path.join(model_properties_dir, 'correlations', f'correlations_model_id{idx}.npy'))\n",
    "    \n",
    "    plot_correlation(cmat_true, cmat_pred, rows, cols, figsize, title=title, \n",
    "                     save_as=save_as, cmap=cmap, tick_multiples=tick_multiples, plot_error=plot_error)"
   ]
  },
  {
   "cell_type": "code",
   "execution_count": null,
   "id": "d092c056-9aa3-4508-a843-cf1b782a2e12",
   "metadata": {},
   "outputs": [],
   "source": [
    "########\n",
    "# params\n",
    "cmap = 'RdBu'\n",
    "plot_error = False\n",
    "figsize = (fig_height * (3 if plot_error else 2) + 1, fig_height)\n",
    "\n",
    "# plot correlation functions\n",
    "save_as = None\n",
    "if save_figures:\n",
    "    save_as = os.path.join(figures_dir, f'2d_heisenberg/2d_heisenberg_{split}_correlation_{rows}x{cols}_{best_hamiltonian_id}.{file_type}')\n",
    "\n",
    "title = f\"Two-Point Correlation Function\"\n",
    "title = None\n",
    "make_correlation_plots(res_dir, rows, cols, ns, split, idx=best_hamiltonian_id, figsize=figsize, model_id=model_id, \n",
    "                       train_id=train_id, snapshots=snapshots, title=title, save_as=save_as, cmap=cmap,\n",
    "                       tick_multiples=tick_multiples, plot_error=plot_error)"
   ]
  }
 ],
 "metadata": {
  "kernelspec": {
   "display_name": "Python 3 (ipykernel)",
   "language": "python",
   "name": "python3"
  },
  "language_info": {
   "codemirror_mode": {
    "name": "ipython",
    "version": 3
   },
   "file_extension": ".py",
   "mimetype": "text/x-python",
   "name": "python",
   "nbconvert_exporter": "python",
   "pygments_lexer": "ipython3",
   "version": "3.8.13"
  }
 },
 "nbformat": 4,
 "nbformat_minor": 5
}
