{
 "cells": [
  {
   "cell_type": "markdown",
   "id": "6f6f1c1e-f66b-4466-8425-423ccaa9d0a0",
   "metadata": {
    "pycharm": {
     "name": "#%% md\n"
    }
   },
   "source": [
    "# Predicting phases of Rydberg-atom systems under longer adiabatic state preparation times  with Conditional Generative Models\n",
    "\n",
    "Haoxiang Wang (hwang264@illinois.edu)\n",
    "\n",
    "Work done as an applied scientist intern at Amazon Braket in 2022"
   ]
  },
  {
   "cell_type": "code",
   "execution_count": 1,
   "id": "10042209-17ee-4fa8-adc1-07a05d7d9f3c",
   "metadata": {
    "pycharm": {
     "name": "#%%\n"
    }
   },
   "outputs": [],
   "source": [
    "import sys\n",
    "# to read modules from the parent directory\n",
    "sys.path.insert(0,'..')\n",
    "root = '../'"
   ]
  },
  {
   "cell_type": "code",
   "execution_count": 2,
   "id": "4e162833-e2d2-45a6-87dc-7ef80afba9c3",
   "metadata": {
    "pycharm": {
     "name": "#%%\n"
    }
   },
   "outputs": [],
   "source": [
    "import numpy as np\n",
    "import pickle\n",
    "from time import time\n",
    "from joblib import Parallel, delayed\n",
    "from src.models.mlp import MLP\n",
    "from src.eval import RydbergEvaluator\n",
    "from src.eval.eval_rydberg import est_density_from_z_measurements,est_corr_from_z_measurements,determine_phase_1D,est_order_param_1D,phase2img,est_phase_diagram,est_order_param_1D_fourier_from_measurements,est_order_param_1D_fourier,fourier_transform_square_lattice,est_order_param_2D_from_measurements\n",
    "from src.data.loading.dataset_rydberg import RydbergDataset,unif_sample_on_grid\n",
    "import argparse\n",
    "from constants import *\n",
    "from src.training.rydberg_trainers import RydbergConditionalTransformerTrainer\n",
    "from src.models.transformer import init_conditional_transformer\n",
    "from src.models.mlp import MLP\n",
    "from src.eval.eval_rydberg import determine_phase_1D,determine_phase_2D,est_order_param_1D,est_order_param_2D\n",
    "from src.utils import plot_phase_diagram\n",
    "\n",
    "import torch\n",
    "import pandas as pd\n",
    "import warnings\n",
    "import matplotlib.pyplot as plt\n",
    "import seaborn as sns\n",
    "from tqdm.notebook import tqdm,trange\n",
    "warnings.filterwarnings('ignore')\n",
    "%load_ext autoreload\n",
    "%autoreload 2\n",
    "%matplotlib inline"
   ]
  },
  {
   "cell_type": "markdown",
   "id": "6e9ff34f-2e6c-439a-a6c5-f25a7d4918d8",
   "metadata": {
    "pycharm": {
     "name": "#%% md\n"
    },
    "tags": []
   },
   "source": [
    "## Rydberg Hamiltonian\n",
    "This example is about trapped Rydberg atoms, a class of highly controllable neural atoms that can be used to build programmable Ising-type quantum simulators \\cite{Rydberg-spin-liquids,Rydberg1D-51atoms,Rydberg2D-256atoms}. In Ising-type quantum simulations, a Rydberg atom is effectively considered as a two-level system consisting of a ground state $| g \\rangle$ (i.e., $|0\\rangle$) and a highly-excited state $ | r\\rangle$ (i.e., $|1 \\rangle$) called Rydberg state. Rydberg atoms can be allocated on a plane and trapped by light tweezers. In \\cite{Rydberg1D-51atoms}, Rydberg atoms are placed along a 1D lattice (i.e., a chain) equidistantly, while \\cite{Rydberg2D-256atoms} allocates the atoms as a 2D square lattice. For either a 1D or 2D lattice of Rydberg atoms, denoting the nearest-neighbor distance of atoms $a$, the Hamiltonian of such a system can be described by\n",
    "\\begin{align}\\label{eq:H-rydberg}\n",
    "    H=\\frac{\\Omega}{2} \\sum_{i} X_{i}-\\Delta \\sum_{i} N_{i}+\\sum_{i<j}\\left(\\frac{V_{0}}{|\\vec x_i- \\vec x_j|}\\right)^{6} N_{i} N_{j} ~,\n",
    "\\end{align}\n",
    "where $\\Omega$ is the Rabi frequency, $\\Delta$ is the detuning of laser, $R_b$ is a constant, $\\vec x_i$ is the location vector of the qubit $i$, and $N_i$ is the occupation number operator at site $i$, i.e., $N_i = |{r_i}\\rangle \\langle {r_i} |$\n"
   ]
  },
  {
   "cell_type": "markdown",
   "id": "bc4b101d-ff26-43af-bf00-c0bbc7cd16c8",
   "metadata": {
    "pycharm": {
     "name": "#%% md\n"
    }
   },
   "source": [
    "## Approximate Ground States via Adiabatic Evolution\n",
    "\n",
    "The many-body ground state of a Rydberg Hamiltonian is typically obtained via \\textit{adiabatic evolution}. \n",
    "Initially, each Rydberg atom is prepared in its ground state $|0\\rangle$ (with high precision) such that the many-body state is $|0\\dots 0\\rangle$, which is the ground state of the Rydberg Hamiltonian with a large negative detuning $\\Delta$ and zero-valued $\\Omega$. Then, the detuning strength $\\Delta$ is ramped up gradually to positive values, while the Rabi frequency is turned on (i.e., $\\Omega > 0$). Clearly, the Hamiltonian of the Rydberg system is time-dependent according to a custom scheduler for $\\Delta$ and $\\Omega$. By the Adiabatic Theorem of quantum mechanics, we know as the time evolution process is slow enough, the quantum state of the system always stays closes to the ground state of the time-dependent Hamiltonian at any time step. Therefore, as the evolution process is sufficiently slow, we can end up with a prepared state that is approximately the ground state of the final Hamiltonian. "
   ]
  },
  {
   "cell_type": "markdown",
   "id": "d3c8e5e0-7a08-4c35-9b1b-027f282bae4c",
   "metadata": {
    "pycharm": {
     "name": "#%% md\n"
    }
   },
   "source": [
    "## Load Simulation Results of Adiabatic Evolution\n",
    "\n",
    "We conducted classical simulations for the adiabatic evolution of 2D Rydberg systems using [Bloqade.jl](https://github.com/QuEraComputing/Bloqade.jl/). The code for the simulation is presented in `rydberg/`.\n",
    "\n",
    "Below, we load simulation data stored in `data/rydberg`.\n",
    "+ For each simulation run of adiabatic evolution, we initiate a Rydberg lattice with a custom atom separation (i.e., $a$ in the Hamiltonian), and tune $\\Delta, \\Omega$ according to a preset scheduler. We take multiple time steps across the evolution, performing meausurements in the Z-basis, and save the measurement data locally.\n"
   ]
  },
  {
   "cell_type": "code",
   "execution_count": 3,
   "id": "30440185-0e9d-42a4-b197-bd87d324d37d",
   "metadata": {},
   "outputs": [
    {
     "data": {
      "application/vnd.jupyter.widget-view+json": {
       "model_id": "6f992e83b5db4db3835e0d96e528510f",
       "version_major": 2,
       "version_minor": 0
      },
      "text/plain": [
       "  0%|          | 0/14 [00:00<?, ?it/s]"
      ]
     },
     "metadata": {},
     "output_type": "display_data"
    }
   ],
   "source": [
    "meta_datasets = {}\n",
    "nx,ny=5,5\n",
    "n_qubits = nx*ny\n",
    "dim = 2\n",
    "assert dim == 2\n",
    "# meta_dataset.info['striated'].describe()\n",
    "order_params = ['Checkboard','Striated','Staggered']\n",
    "n_gen_samples = 1000\n",
    "\n",
    "base_kwargs = {'nx':nx, \n",
    "              'ny':ny}\n",
    "f_order_param = est_order_param_1D_from_measurements if dim == 1 else est_order_param_2D_from_measurements\n",
    "all_ts = np.arange(0.4,3.05,0.2)\n",
    "all_ts = np.round(all_ts,6)\n",
    "all_ts = np.unique(all_ts)\n",
    "threshold = 0.65\n",
    "\n",
    "for total_time in tqdm(all_ts):\n",
    "    folder = root+f'data/rydberg/2D-Phase_{nx}x{ny}/{float(np.round(total_time,2))}µs/'\n",
    "    meta_dataset = RydbergDataset(dim=dim,nx = nx, ny=ny, folder=folder,n_threads=20, var_name='interaction_range',\n",
    "                                              ) \n",
    "    meta_dataset.est_order_params(order_params=order_params,est_from_measurements=True)\n",
    "    meta_dataset.info['phase'] = determine_phase_2D(meta_dataset.info,order_params,threshold=threshold)\n",
    "    meta_datasets[total_time] = meta_dataset"
   ]
  },
  {
   "cell_type": "code",
   "execution_count": 4,
   "id": "937a1eaf",
   "metadata": {},
   "outputs": [],
   "source": [
    "def get_plot_df(meta_dataset,order_params=order_params,threshold=threshold):\n",
    "    df = meta_dataset.info.copy()\n",
    "    if not ('phase' in df.columns):\n",
    "        df['phase'] = determine_phase_2D(df, order_params,threshold=threshold)\n",
    "    plot_df = df.iloc[np.isin(df['interaction_range'].values, np.unique(df['interaction_range'].unique())[::2])]\n",
    "    plot_df = plot_df.loc[(plot_df['detuning'] >=-1) & (plot_df['interaction_range'] > 1)]\n",
    "    return plot_df"
   ]
  },
  {
   "cell_type": "code",
   "execution_count": 5,
   "id": "4da8d082-38cd-439d-8cda-2a85f455b4cb",
   "metadata": {
    "pycharm": {
     "name": "#%%\n"
    }
   },
   "outputs": [
    {
     "data": {
      "image/png": "[encoded data removed]",
      "text/plain": [
       "<Figure size 288x288 with 1 Axes>"
      ]
     },
     "metadata": {},
     "output_type": "display_data"
    }
   ],
   "source": [
    "hue_order = ['Disordered']+order_params\n",
    "sns.set_style('white')\n",
    "t = 1.\n",
    "df = meta_datasets[t].info.copy()\n",
    "plot_df = df.iloc[np.isin(df['interaction_range'].values, np.unique(df['interaction_range'].unique())[::2])]\n",
    "plot_df = plot_df.loc[(plot_df['detuning'] >=-1) & (plot_df['interaction_range'] > 1)]\n",
    "fig = plot_phase_diagram(plot_df,title=f\"{nx}x{ny} Rydberg Atoms: Phase Diagram at T={t}μs\",\n",
    "                         hue_order=hue_order,figsize=(4,4))"
   ]
  },
  {
   "cell_type": "markdown",
   "id": "0bdf93c4-2293-4c17-b5c4-df74fa2a15b6",
   "metadata": {
    "pycharm": {
     "name": "#%% md\n"
    }
   },
   "source": [
    "## Prepare Training Set\n",
    "\n",
    "We split the phase diagram by grids (defined by `x_bins` and `y_bins`), and sample one point in each grid for training. Each point represents the ground state of one quantum system with the corresponding variables ($a,\\Delta,\\Omega$)."
   ]
  },
  {
   "cell_type": "code",
   "execution_count": 6,
   "id": "2ce98876-ddc0-4906-b433-04ea3e77d4fa",
   "metadata": {
    "pycharm": {
     "name": "#%%\n"
    }
   },
   "outputs": [],
   "source": [
    "\n",
    "def prepare_train_set(meta_dataset, df=None, n_measurements:int = -1, x_bins=10,y_bins=10):\n",
    "    train_set = {}\n",
    "    if df is None: df = meta_dataset.info\n",
    "    train_idxes, train_df = unif_sample_on_grid(df.copy(),x_bins=x_bins,y_bins=y_bins)#,x_range=(0.4,1.78),y_range=(1.4,2.4))\n",
    "    # train_idxes = plot_df.index.values\n",
    "    train_keys = meta_dataset.keys[train_idxes]\n",
    "    train_set.update(meta_dataset.prepare_train_set(train_keys,n_measurements=n_measurements))\n",
    "    return train_set, train_idxes\n",
    "def prepare_dataset(meta_datasets,train_times:list,n_measurements:int = 1000,):\n",
    "    train_set = {}\n",
    "    densities = []\n",
    "    for t in train_times:\n",
    "        meta_dataset = meta_datasets[t]\n",
    "        df = meta_dataset.info\n",
    "        train_keys = meta_dataset.keys[df.index]\n",
    "        train_set.update(meta_dataset.prepare_train_set(train_keys,n_measurements=n_measurements))\n",
    "    return train_set"
   ]
  },
  {
   "cell_type": "code",
   "execution_count": 7,
   "id": "5b9c49aa-81ed-4ea8-80a8-f8f298dea777",
   "metadata": {},
   "outputs": [],
   "source": [
    "train_ts = all_ts[(all_ts >=0.4) * (all_ts <= 1.0)]\n",
    "train_set = prepare_dataset(meta_datasets,train_times=train_ts,n_measurements=-1)\n",
    "test_ts = all_ts[all_ts > 1]"
   ]
  },
  {
   "cell_type": "code",
   "execution_count": 8,
   "id": "1fc645c7-74b6-411d-a051-a390212351ee",
   "metadata": {},
   "outputs": [],
   "source": [
    "# You can save them locally and reload later\n",
    "\n",
    "# np.save('logs/rydberg_2D/train_idxes.npy',train_idxes)\n",
    "# pickle.dump(train_set, open('logs/rydberg_2D/train_set.pkl','wb'))\n",
    "# pickle.dump(meta_dataset, open('logs/rydberg_2D/meta_dataset.pkl','wb'))"
   ]
  },
  {
   "cell_type": "markdown",
   "id": "6456977d-eeec-4491-b06a-21214cf8235a",
   "metadata": {
    "pycharm": {
     "name": "#%% md\n"
    }
   },
   "source": [
    "## Train a Conditional Generative Model\n",
    "\n",
    "We first define some hyperparameters as follows"
   ]
  },
  {
   "cell_type": "code",
   "execution_count": 9,
   "id": "82c67731-51f4-4880-aa48-c16f8e530ea4",
   "metadata": {},
   "outputs": [],
   "source": [
    "def parse_args(args=[]):\n",
    "    parser = argparse.ArgumentParser()\n",
    "    parser.add_argument('--data-dir', type=str, default='logs/rydberg/debug/')\n",
    "    parser.add_argument('--dim',type=int,default=1)\n",
    "    parser.add_argument('--nx',type=int,default=19)\n",
    "    parser.add_argument('--ny',type=int,default=1)\n",
    "    parser.add_argument('--tf-arch', type=str, default='transformer_l4_d128_h4')\n",
    "    parser.add_argument('--train-id', type=str, default=\"debug\")\n",
    "    parser.add_argument('--reps', type=int, default=1)\n",
    "    parser.add_argument('--ns', type=int, default=800, help='number of samples per hamiltonian')\n",
    "    parser.add_argument('--iterations', type=int, default=200000, help=\"training iterations\")\n",
    "    parser.add_argument('--eval-every', type=int, default=100)\n",
    "    parser.add_argument('--eval-samples', type=int, default=10000, help='number of generated samples for evaluation')\n",
    "    parser.add_argument('--n_cpu', type=int, default=8, help='number of cpu threads to use during batch generation')\n",
    "    parser.add_argument('--verbose', type=int, default=1, choices=[0, 1])\n",
    "    parser.add_argument('--epoch-mode', type=int, default=1, choices=[0, 1])\n",
    "    parser.add_argument('--condition-mode', type=int, default=0, choices=[0, 1])\n",
    "    parser.add_argument('--seed', type=int, default=None)\n",
    "    return parser.parse_args(args)\n",
    "\n",
    "\n",
    "def get_hyperparams(**kwargs):\n",
    "    hparams = argparse.Namespace(\n",
    "        lr=1e-3,\n",
    "        wd=0,\n",
    "        bs=512,\n",
    "        dropout=0.0,\n",
    "        lr_scheduler=WARMUP_COSINE_SCHEDULER,\n",
    "        warmup_frac=0.,\n",
    "        final_lr=1e-7,\n",
    "        smoothing=0.0,\n",
    "        use_padding=0,\n",
    "        val_frac=0.25,\n",
    "        cattn=0\n",
    "    )\n",
    "\n",
    "    for k, v in kwargs.items():\n",
    "        setattr(hparams, k, v)\n",
    "\n",
    "    return hparams\n",
    "args = parse_args()\n",
    "hparams = get_hyperparams()"
   ]
  },
  {
   "cell_type": "code",
   "execution_count": 10,
   "id": "6e26e8b1-7ae4-454f-b6ec-dbff4d7dec02",
   "metadata": {},
   "outputs": [],
   "source": [
    "num_outcomes = 2 # for rydberg systems\n",
    "\n",
    "n_vars = len(list(train_set.keys())[0])\n",
    "gpu_idx = 3\n",
    "device = torch.device(f\"cuda:{gpu_idx}\")\n",
    "\n",
    "rng = np.random.default_rng(seed=args.seed)\n",
    "# setup transformer\n",
    "d_model = TF_ARCHS[args.tf_arch]['d_model']\n",
    "n_head = TF_ARCHS[args.tf_arch]['n_head']\n",
    "n_layers = TF_ARCHS[args.tf_arch]['n_layers']\n",
    "assert d_model % n_head == 0, 'd_model must be integer multiple of n_head!'"
   ]
  },
  {
   "cell_type": "markdown",
   "id": "68222403-40b4-4318-b583-93366f724e0a",
   "metadata": {
    "pycharm": {
     "name": "#%% md\n"
    }
   },
   "source": [
    "We construct a MLP (fully-connected net) as the encoder and a transformer as the generative model, and then train the model"
   ]
  },
  {
   "cell_type": "code",
   "execution_count": 11,
   "id": "dfce7a9d-6489-42ef-af24-8671bc70a988",
   "metadata": {
    "pycharm": {
     "name": "#%%\n"
    }
   },
   "outputs": [],
   "source": [
    "encoder = MLP(input_size=n_vars, output_size=d_model, \n",
    "              n_layers=1, hidden_size=128, activation='ELU', \n",
    "              input_layer_norm=False,\n",
    "              output_batch_size=None, device=device,\n",
    "             output_factor=1.)\n",
    "\n",
    "transformer = init_conditional_transformer(\n",
    "        n_outcomes=num_outcomes,\n",
    "        encoder=encoder,\n",
    "        n_layers=n_layers,\n",
    "        d_model=d_model,\n",
    "        d_ff=4 * d_model,\n",
    "        n_heads=n_head,\n",
    "        dropout=hparams.dropout,\n",
    "        version=hparams.use_padding,\n",
    "        use_prompt=False, #***\n",
    ")\n",
    "\n",
    "trainer = RydbergConditionalTransformerTrainer(model=transformer,\n",
    "                                  train_dataset=train_set,\n",
    "                                  test_dataset=None,\n",
    "                                  iterations=args.iterations,\n",
    "                                  lr=hparams.lr,\n",
    "                                  final_lr=hparams.final_lr,\n",
    "                                  lr_scheduler=hparams.lr_scheduler,\n",
    "                                  warmup_frac=hparams.warmup_frac,\n",
    "                                  weight_decay=hparams.wd,\n",
    "                                  batch_size=hparams.bs,\n",
    "                                  rng=rng,\n",
    "                                  smoothing=hparams.smoothing,\n",
    "                                  eval_every=args.eval_every,\n",
    "                                  transfomer_version=hparams.use_padding,\n",
    "                                  device=device)"
   ]
  },
  {
   "cell_type": "code",
   "execution_count": 12,
   "id": "97864ee8-598f-4102-ac16-7a9f8bccb971",
   "metadata": {},
   "outputs": [],
   "source": [
    "load_pretrained = True"
   ]
  },
  {
   "cell_type": "code",
   "execution_count": 13,
   "id": "40b3f433-87e9-47da-b7be-4f0591895e15",
   "metadata": {
    "pycharm": {
     "name": "#%%\n"
    }
   },
   "outputs": [
    {
     "name": "stdout",
     "output_type": "stream",
     "text": [
      "Loaded trained model from ../logs/rydberg_2D-time/transformer_0.4-1.0_iter-200k.pth\n"
     ]
    }
   ],
   "source": [
    "\n",
    "model_name = f'transformer_{train_ts.min()}-{train_ts.max()}_iter-{args.iterations//1000}k'\n",
    "if load_pretrained:\n",
    "    ckpt_path = root + f'logs/rydberg_2D-time/{model_name}.pth'\n",
    "    transformer = torch.load(ckpt_path)\n",
    "    transformer.to(device)\n",
    "    transformer.device = device\n",
    "    print(f'Loaded trained model from {ckpt_path}')\n",
    "else:\n",
    "    trainer.train()\n",
    "    torch.save(transformer,root + f'logs/rydberg_2D-time/{model_name}.pth') # You can save the trained model"
   ]
  },
  {
   "cell_type": "markdown",
   "id": "84252d5a-94c8-4c7d-91e7-763c4465f038",
   "metadata": {},
   "source": [
    "For each $T$, we use the conditional generative model to generate `n_gen_samples` measurements for each point in its phase diagram, and then determine the phase by order parameters."
   ]
  },
  {
   "cell_type": "code",
   "execution_count": 14,
   "id": "63d0d4d5-e3a0-48ac-a0c0-134af57806f7",
   "metadata": {
    "pycharm": {
     "name": "#%%\n"
    }
   },
   "outputs": [],
   "source": [
    "dfs_CGM = {}\n",
    "for t in tqdm(all_ts):\n",
    "    meta_dataset = meta_datasets[t]\n",
    "    plot_df = get_plot_df(meta_dataset)\n",
    "    n_gen_samples = 1000\n",
    "    test_df = plot_df.copy()\n",
    "    test_df[order_params] = np.nan\n",
    "    densities = {}\n",
    "    transformer.eval()\n",
    "    n_qubits = nx*ny\n",
    "    torch.manual_seed(0) # Set seed to ensure reproduction\n",
    "    torch.cuda.manual_seed(0)\n",
    "    for idx in tqdm(test_df.index,desc=\"Generation\",leave=False):\n",
    "        key = meta_dataset.keys[idx]\n",
    "        condition = torch.from_numpy(np.array([key])).float()\n",
    "        gen_samples = transformer.sample_batch(cond_var=condition,batch_size=n_gen_samples,\n",
    "                                                   num_qubits=n_qubits)\n",
    "        density = gen_samples.mean(axis=0)\n",
    "        densities[idx] = density\n",
    "        for order_param in order_params:\n",
    "            test_df.loc[idx, order_param] = est_order_param_2D_from_measurements(gen_samples,order_param=order_param,\n",
    "                                                                                 nx=nx,ny=ny)\n",
    "    test_df['phase'] = determine_phase_2D(test_df,order_params,threshold=threshold)\n",
    "    dfs_CGM[t] = test_df.copy()"
   ]
  },
  {
   "cell_type": "code",
   "execution_count": 15,
   "id": "783b22b2-5a53-477e-8981-9a1e91ccabb6",
   "metadata": {},
   "outputs": [],
   "source": [
    "# You can save the results locally & reload it later\n",
    "# pickle.dump(dfs_CGM, open(root+'logs/rydberg_2D-time/dfs_CGM.pkl','wb'))\n",
    "# dfs_CGM = pickle.load(open(root+'logs/rydberg_2D-time/dfs_CGM.pkl','rb'))"
   ]
  },
  {
   "cell_type": "code",
   "execution_count": 16,
   "id": "7f27220a-e7f8-4fde-b19f-6bf1319d101d",
   "metadata": {},
   "outputs": [],
   "source": [
    "def compute_acc(pred_df,true_df,idxes=None):\n",
    "    idxes = idxes or pred_df.index.values\n",
    "    pred_df = pred_df.loc[idxes]\n",
    "    true_df = true_df.loc[idxes]\n",
    "        \n",
    "    V = pred_df['phase'].values == true_df['phase'].values\n",
    "    clf_acc = np.mean(V)\n",
    "    return clf_acc\n",
    "def compute_rmse(pred_df,true_df,order_params=order_params,idxes=None):\n",
    "    idxes = idxes or pred_df.index.values\n",
    "    pred_df = pred_df.loc[idxes]\n",
    "    true_df = true_df.loc[idxes]# make sure both dfs have the same order     \n",
    "    error = np.mean((pred_df[order_params].values - true_df[order_params].values)**2)\n",
    "    return np.sqrt(error)"
   ]
  },
  {
   "cell_type": "code",
   "execution_count": 17,
   "id": "4bb02ccd-423f-4e76-9f4d-7d1ee8120553",
   "metadata": {},
   "outputs": [],
   "source": [
    "from src.models.kernels import build_dirichlet_kernel,build_NTK\n",
    "from sklearn.model_selection import cross_val_score\n",
    "from sklearn import svm\n",
    "from sklearn.kernel_ridge import KernelRidge\n",
    "from sklearn.preprocessing import StandardScaler,MinMaxScaler,Normalizer"
   ]
  },
  {
   "cell_type": "code",
   "execution_count": 18,
   "id": "4263c2a9-954e-4c9d-a48c-bc86429d4995",
   "metadata": {},
   "outputs": [
    {
     "data": {
      "application/vnd.jupyter.widget-view+json": {
       "model_id": "678058cf52304fe38a3a616c288b6f8c",
       "version_major": 2,
       "version_minor": 0
      },
      "text/plain": [
       "  0%|          | 0/7680 [00:00<?, ?it/s]"
      ]
     },
     "metadata": {},
     "output_type": "display_data"
    }
   ],
   "source": [
    "train_keys = list(train_set.keys())\n",
    "f_label = est_order_param_1D_from_measurements if dim == 1 else est_order_param_2D_from_measurements # labelling function (density --> label)\n",
    "Xs,Xs_test,Ys,Ys_test = [],[],[],[]\n",
    "for key, measurements in tqdm(list(train_set.items())):\n",
    "    x = np.array(key)\n",
    "    density = np.mean(measurements,axis=0)\n",
    "    y = [f_label(measurements,order_param=order_param,**base_kwargs) for order_param in order_params]\n",
    "    # y = density\n",
    "    Xs.append(x)\n",
    "    Ys.append(y)\n",
    "Xs,Ys = np.array(Xs),np.array(Ys)"
   ]
  },
  {
   "cell_type": "code",
   "execution_count": 19,
   "id": "d3eb6881",
   "metadata": {
    "collapsed": false,
    "jupyter": {
     "outputs_hidden": false
    },
    "pycharm": {
     "name": "#%%\n"
    }
   },
   "outputs": [],
   "source": [
    "scaler = MinMaxScaler()#Normalizer()\n",
    "Xs = scaler.fit_transform(Xs)"
   ]
  },
  {
   "cell_type": "code",
   "execution_count": 20,
   "id": "b6f6ec49-70ea-4acc-adb8-130210302ab4",
   "metadata": {
    "collapsed": false,
    "jupyter": {
     "outputs_hidden": false
    },
    "pycharm": {
     "name": "#%%\n"
    }
   },
   "outputs": [],
   "source": [
    "meta_dataset = meta_datasets[3.0]\n",
    "plot_df = get_plot_df(meta_dataset)\n",
    "idxes = plot_df.index.values\n",
    "Xs_test = scaler.transform(meta_dataset.keys[idxes])\n",
    "# Ys_test = [meta_dataset[idx]['density_z'] for idx in test_idxes]#meta_dataset.info[order_params].values\n",
    "Ys_test = plot_df[order_params].values"
   ]
  },
  {
   "cell_type": "code",
   "execution_count": 21,
   "id": "2ad2cd9f-73df-4b4d-9936-65bac47633b2",
   "metadata": {
    "collapsed": false,
    "jupyter": {
     "outputs_hidden": false
    },
    "pycharm": {
     "name": "#%%\n"
    }
   },
   "outputs": [],
   "source": [
    "train_dirichlet_kernel = build_dirichlet_kernel(Xs)\n",
    "test_dirichlet_kernel = build_dirichlet_kernel(Xs_test)"
   ]
  },
  {
   "cell_type": "code",
   "execution_count": 22,
   "id": "e59a516a-72b4-4529-b030-13f479461920",
   "metadata": {
    "collapsed": false,
    "jupyter": {
     "outputs_hidden": false
    },
    "pycharm": {
     "name": "#%%\n"
    }
   },
   "outputs": [],
   "source": [
    "C = 1e5\n",
    "clf_dir = KernelRidge(kernel='linear',alpha=1/(2*C)).fit(train_dirichlet_kernel,Ys)"
   ]
  },
  {
   "cell_type": "code",
   "execution_count": 23,
   "id": "77431734-d492-4279-b51c-1fb86e75edf9",
   "metadata": {
    "collapsed": false,
    "jupyter": {
     "outputs_hidden": false
    },
    "pycharm": {
     "name": "#%%\n"
    }
   },
   "outputs": [],
   "source": [
    "pred_dirichlet = clf_dir.predict(test_dirichlet_kernel)\n",
    "err_dirichlet = np.sqrt(np.mean((pred_dirichlet - Ys_test)**2))"
   ]
  },
  {
   "cell_type": "code",
   "execution_count": 24,
   "id": "eb55b7ad-f206-4f6c-9cf4-b4d1fec7b7cf",
   "metadata": {
    "collapsed": false,
    "jupyter": {
     "outputs_hidden": false
    },
    "pycharm": {
     "name": "#%%\n"
    }
   },
   "outputs": [
    {
     "data": {
      "text/plain": [
       "0.2324116272240672"
      ]
     },
     "execution_count": 24,
     "metadata": {},
     "output_type": "execute_result"
    }
   ],
   "source": [
    "err_dirichlet"
   ]
  },
  {
   "cell_type": "code",
   "execution_count": 25,
   "id": "87b74ac3",
   "metadata": {
    "collapsed": false,
    "jupyter": {
     "outputs_hidden": false
    },
    "pycharm": {
     "name": "#%%\n"
    }
   },
   "outputs": [],
   "source": [
    "C = 10\n",
    "clf_rbf = KernelRidge(kernel='rbf',alpha=1/(2*C)).fit(Xs,Ys)"
   ]
  },
  {
   "cell_type": "code",
   "execution_count": 26,
   "id": "8ddf74aa-06ef-479e-9184-8b7d7d82f98b",
   "metadata": {
    "collapsed": false,
    "jupyter": {
     "outputs_hidden": false
    },
    "pycharm": {
     "name": "#%%\n"
    }
   },
   "outputs": [],
   "source": [
    "pred_rbf = clf_rbf.predict(Xs_test)\n",
    "err_rbf = np.sqrt(np.mean((pred_rbf - Ys_test)**2))"
   ]
  },
  {
   "cell_type": "code",
   "execution_count": 27,
   "id": "18e42f90-44cf-4a4d-93e0-62aa1702536f",
   "metadata": {
    "collapsed": false,
    "jupyter": {
     "outputs_hidden": false
    },
    "pycharm": {
     "name": "#%%\n"
    }
   },
   "outputs": [
    {
     "data": {
      "text/plain": [
       "0.24354545477625483"
      ]
     },
     "execution_count": 27,
     "metadata": {},
     "output_type": "execute_result"
    }
   ],
   "source": [
    "err_rbf"
   ]
  },
  {
   "cell_type": "code",
   "execution_count": 28,
   "id": "72381cd9",
   "metadata": {},
   "outputs": [
    {
     "name": "stderr",
     "output_type": "stream",
     "text": [
      "WARNING:jax._src.lib.xla_bridge:No GPU/TPU found, falling back to CPU. (Set TF_CPP_MIN_LOG_LEVEL=0 and rerun for more info.)\n"
     ]
    }
   ],
   "source": [
    "# We found the GPU version of Jax doesn't give stable NTK results when the regularization is very small, \n",
    "# i.e., the coefficient C is large.\n",
    "# So we let Jax to run on CPU only when computing the NTK\n",
    "import os \n",
    "os.environ[\"JAX_PLATFORM_NAME\"] = \"cpu\"\n",
    "ntk_train, ntk_pred_fn, ntk_kernel_fn = build_NTK(Xs,Ys,C=1,layers=3, # more layers --> worse results\n",
    "                                                  normalize=False,activation='Erf',\n",
    "                                                  return_kernel_fn=True)"
   ]
  },
  {
   "cell_type": "code",
   "execution_count": 29,
   "id": "af331a85-beed-4cc4-a14b-ee44a10df6ec",
   "metadata": {},
   "outputs": [],
   "source": [
    "C_ntk = 100\n",
    "pred_ntk, ntk_test = ntk_pred_fn(Xs_test,C=C_ntk,return_kernel=True)\n",
    "err_ntk = np.sqrt(np.mean((pred_ntk - Ys_test)**2))"
   ]
  },
  {
   "cell_type": "code",
   "execution_count": 30,
   "id": "bad4f024-fdfb-4812-9f9a-174b7b50b3bd",
   "metadata": {},
   "outputs": [
    {
     "data": {
      "text/plain": [
       "0.2052808536259051"
      ]
     },
     "execution_count": 30,
     "metadata": {},
     "output_type": "execute_result"
    }
   ],
   "source": [
    "err_ntk"
   ]
  },
  {
   "cell_type": "code",
   "execution_count": 31,
   "id": "73e24f99-456f-4bce-aa2f-e4e29e207dbc",
   "metadata": {},
   "outputs": [
    {
     "data": {
      "application/vnd.jupyter.widget-view+json": {
       "model_id": "f86030e4cccb4d4daafb1886e6cc3025",
       "version_major": 2,
       "version_minor": 0
      },
      "text/plain": [
       "  0%|          | 0/14 [00:00<?, ?it/s]"
      ]
     },
     "metadata": {},
     "output_type": "display_data"
    }
   ],
   "source": [
    "dfs_rbf,dfs_ntk,dfs_dir = {},{},{}\n",
    "for t in tqdm(all_ts):\n",
    "    meta_dataset = meta_datasets[t]\n",
    "    plot_df = get_plot_df(meta_dataset)\n",
    "    for order_param in order_params:\n",
    "        plot_df[order_param] = np.nan\n",
    "    keys = meta_dataset.keys[plot_df.index.values]\n",
    "    xs = scaler.transform(keys)\n",
    "\n",
    "    df = plot_df.copy()\n",
    "    df[order_params] = clf_rbf.predict(xs)\n",
    "    df['phase'] = determine_phase_2D(df,order_params,threshold)\n",
    "    df_rbf = df.copy()\n",
    "\n",
    "    df = plot_df.copy()\n",
    "    df[order_params] = clf_dir.predict(build_dirichlet_kernel(xs))\n",
    "    df['phase'] = df['phase'] = determine_phase_2D(df,order_params,threshold)\n",
    "    df_dir = df.copy()\n",
    "\n",
    "    df = plot_df.copy()\n",
    "    df[order_params] = ntk_pred_fn(xs,C=C_ntk)\n",
    "    df['phase'] = df['phase'] = determine_phase_2D(df,order_params,threshold)\n",
    "    df = df.sort_values(['phase'])\n",
    "    df_ntk = df.copy()\n",
    "    \n",
    "    dfs_rbf[t] = df_rbf \n",
    "    dfs_ntk[t] = df_ntk\n",
    "    dfs_dir[t] = df_dir\n"
   ]
  },
  {
   "cell_type": "code",
   "execution_count": 32,
   "id": "3f8dc0e6-f879-4a62-b596-4f4c1669a5a0",
   "metadata": {},
   "outputs": [
    {
     "data": {
      "image/png": "[encoded data removed]",
      "text/plain": [
       "<Figure size 446.4x309.6 with 1 Axes>"
      ]
     },
     "metadata": {},
     "output_type": "display_data"
    }
   ],
   "source": [
    "fig = plt.figure(figsize=(6.2,4.3))\n",
    "sns.set_style('whitegrid')\n",
    "ts = all_ts\n",
    "plt.plot(ts,[compute_rmse(dfs_dir[t], get_plot_df(meta_datasets[t])) for t in ts],'-P',label='Dirichlet Kernel')\n",
    "plt.plot(ts,[compute_rmse(dfs_rbf[t], get_plot_df(meta_datasets[t])) for t in ts],'-o',label='Gaussian Kernel')\n",
    "plt.plot(ts,[compute_rmse(dfs_ntk[t], get_plot_df(meta_datasets[t])) for t in ts],'-X',label='NTK')\n",
    "plt.plot(test_ts,[compute_rmse(get_plot_df(meta_datasets[1.]), get_plot_df(meta_datasets[t])) for t in test_ts],'-^',\n",
    "         label=r'Baseline [$T=T_0]$')\n",
    "plt.plot(ts,[compute_rmse(dfs_CGM[t], get_plot_df(meta_datasets[t])) for t in ts],'-D',label='Ours')\n",
    "plt.xticks(ts)\n",
    "plt.title('Prediction Error for 2D Rydberg Lattices under Longer Evolution')\n",
    "plt.xlabel('$T_0$                                                     \\nT',fontweight='bold')\n",
    "plt.ylabel('RMSE')\n",
    "plt.ylim(-.0,)\n",
    "ax = plt.gca()\n",
    "ax.fill_between(ts, 0, 0.28, where=(ts >= 0.4) & (ts <= 1.0), alpha=0.3,label='Train',color='tab:gray')\n",
    "ax.fill_between(ts, 0, 0.28, where=(ts >= 1.0), alpha=0.1,label='Test',color='tab:blue')\n",
    "plt.legend(loc='upper left',bbox_to_anchor=(-.015,1.02),fontsize=11.1)\n",
    "plt.tight_layout()\n",
    "# plt.savefig(root+'figs/paper/2D-time_error-curve.pdf')"
   ]
  },
  {
   "cell_type": "code",
   "execution_count": 33,
   "id": "00cf928c-cd23-438a-b931-821a19cd22d3",
   "metadata": {},
   "outputs": [],
   "source": [
    "t = 3.\n",
    "sns.set_style('white')\n",
    "legend_config = {'loc':'center left','bbox_to_anchor':(-.025,0.5),'fontsize':11.3}\n",
    "figsize=(3.8,3.8)"
   ]
  },
  {
   "cell_type": "code",
   "execution_count": 34,
   "id": "0c6203c4",
   "metadata": {},
   "outputs": [
    {
     "data": {
      "image/png": "[encoded data removed]",
      "text/plain": [
       "<Figure size 273.6x273.6 with 1 Axes>"
      ]
     },
     "metadata": {},
     "output_type": "display_data"
    },
    {
     "data": {
      "image/png": "[encoded data removed]",
      "text/plain": [
       "<Figure size 273.6x273.6 with 1 Axes>"
      ]
     },
     "metadata": {},
     "output_type": "display_data"
    },
    {
     "data": {
      "image/png": "[encoded data removed]",
      "text/plain": [
       "<Figure size 273.6x273.6 with 1 Axes>"
      ]
     },
     "metadata": {},
     "output_type": "display_data"
    },
    {
     "data": {
      "image/png": "[encoded data removed]",
      "text/plain": [
       "<Figure size 273.6x273.6 with 1 Axes>"
      ]
     },
     "metadata": {},
     "output_type": "display_data"
    },
    {
     "data": {
      "image/png": "[encoded data removed]",
      "text/plain": [
       "<Figure size 273.6x273.6 with 1 Axes>"
      ]
     },
     "metadata": {},
     "output_type": "display_data"
    },
    {
     "data": {
      "image/png": "[encoded data removed]",
      "text/plain": [
       "<Figure size 273.6x273.6 with 1 Axes>"
      ]
     },
     "metadata": {},
     "output_type": "display_data"
    }
   ],
   "source": [
    "fig_ntk = plot_phase_diagram(dfs_ntk[t],title=f\"Prediction (NTK)\",hue_order=hue_order,legend_config=legend_config,figsize=figsize,legend=True)\n",
    "fig_rbf = plot_phase_diagram(dfs_rbf[t],title=f\"Prediction (Gaussian Kernel)\",hue_order=hue_order,legend_config=legend_config,figsize=figsize)\n",
    "fig_CGM = plot_phase_diagram(dfs_CGM[t],title=f\"Prediction (Ours)\",hue_order=hue_order,legend_config=legend_config,figsize=figsize)\n",
    "fig_dir = plot_phase_diagram(dfs_dir[t],title=f\"Prediction (Dirichlet Kernel)\",hue_order=hue_order,legend_config=legend_config,figsize=figsize)\n",
    "fig_base= plot_phase_diagram(get_plot_df(meta_datasets[1.0]),title=r\"Prediction (Baseline [$T=T_0$])\",hue_order=hue_order,legend_config=legend_config,figsize=figsize)\n",
    "fig_true= plot_phase_diagram(get_plot_df(meta_datasets[t]),title=f\"Ground-Truth [$T=3.0 \\mu s$]\",hue_order=hue_order,legend_config=legend_config,figsize=figsize,)\n",
    "fig_ntk.tight_layout()\n",
    "fig_rbf.tight_layout()\n",
    "fig_dir.tight_layout()\n",
    "fig_CGM.tight_layout()\n",
    "fig_true.tight_layout()"
   ]
  },
  {
   "cell_type": "markdown",
   "id": "642e6a12-89c7-400a-8afe-5d7d85459560",
   "metadata": {},
   "source": [
    "(Optional) Save figures"
   ]
  },
  {
   "cell_type": "code",
   "execution_count": 35,
   "id": "68fed360",
   "metadata": {},
   "outputs": [],
   "source": [
    "prefix = root+'figs/paper/2D-time_phase-'\n",
    "fig_CGM.savefig(prefix+'ours.pdf')\n",
    "fig_true.savefig(prefix+'true.pdf')\n",
    "fig_rbf.savefig(prefix+'rbf.pdf')\n",
    "fig_ntk.savefig(prefix+'ntk.pdf')\n",
    "fig_dir.savefig(prefix+'dir.pdf')\n",
    "fig_base.savefig(prefix+'baseline.pdf')"
   ]
  },
  {
   "cell_type": "code",
   "execution_count": null,
   "id": "59219268-bc9b-4562-a445-bac318ace92a",
   "metadata": {},
   "outputs": [],
   "source": []
  }
 ],
 "metadata": {
  "kernelspec": {
   "display_name": "Python 3 (ipykernel)",
   "language": "python",
   "name": "python3"
  },
  "language_info": {
   "codemirror_mode": {
    "name": "ipython",
    "version": 3
   },
   "file_extension": ".py",
   "mimetype": "text/x-python",
   "name": "python",
   "nbconvert_exporter": "python",
   "pygments_lexer": "ipython3",
   "version": "3.9.7"
  }
 },
 "nbformat": 4,
 "nbformat_minor": 5
}
