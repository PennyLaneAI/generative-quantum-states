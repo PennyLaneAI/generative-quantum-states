{
 "cells": [
  {
   "cell_type": "markdown",
   "metadata": {
    "pycharm": {
     "name": "#%% md\n"
    }
   },
   "source": [
    "# Predicting phases of larger Rydberg-atom systems with Conditional Generative Models\n",
    "\n",
    "Haoxiang Wang (hwang264@illinois.edu)\n",
    "\n",
    "Work done as an applied scientist intern at Amazon Braket in 2022"
   ]
  },
  {
   "cell_type": "code",
   "execution_count": 1,
   "metadata": {},
   "outputs": [],
   "source": [
    "import sys\n",
    "# to read modules from the parent directory\n",
    "sys.path.insert(0,'..')"
   ]
  },
  {
   "cell_type": "code",
   "execution_count": 2,
   "metadata": {
    "pycharm": {
     "is_executing": true,
     "name": "#%%\n"
    }
   },
   "outputs": [],
   "source": [
    "import argparse\n",
    "import numpy as np\n",
    "import os\n",
    "from constants import *\n",
    "from src.training.rydberg_trainers import RydbergConditionalTransformerTrainer\n",
    "from src.models.transformer import init_conditional_transformer\n",
    "from src.models.mlp import MLP\n",
    "from src.eval.eval_rydberg import est_density_from_z_measurements,est_order_param_1D,est_order_param_2D,est_order_param_1D_from_measurements\n",
    "from src.eval.eval_rydberg import determine_phase_1D,est_order_param_1D,est_order_param_1D_from_measurements,est_order_param_1D_fourier,est_order_param_1D_fourier_from_measurements\n",
    "from src.eval.eval_rydberg import get_neighbors,est_staggered_magnetization,single_site_staggered_magnetization,est_avg_corr_cov_2D\n",
    "from src.utils import measurement2readout_obs\n",
    "from src.data.loading.dataset_rydberg import RydbergDataset,unif_sample_on_grid\n",
    "from tqdm.notebook import tqdm,trange\n",
    "import torch\n",
    "from torch import nn\n",
    "import matplotlib.pyplot as plt\n",
    "import scipy\n",
    "import pickle\n",
    "import warnings\n",
    "import shutil\n",
    "import imageio\n",
    "import ipywidgets as widgets\n",
    "import seaborn as sns\n",
    "from copy import deepcopy\n",
    "from src.utils import plot_phase_diagram\n",
    "warnings.filterwarnings('ignore')\n",
    "%load_ext autoreload\n",
    "%autoreload 2\n",
    "%matplotlib inline"
   ]
  },
  {
   "cell_type": "markdown",
   "metadata": {
    "pycharm": {
     "name": "#%% md\n"
    }
   },
   "source": [
    "Define hyper-parameters and configuration variables."
   ]
  },
  {
   "cell_type": "code",
   "execution_count": 3,
   "metadata": {
    "pycharm": {
     "name": "#%%\n"
    }
   },
   "outputs": [],
   "source": [
    "def parse_args(args=[]):\n",
    "    parser = argparse.ArgumentParser()\n",
    "    parser.add_argument('--data-dir', type=str, default='logs/rydberg/debug/')\n",
    "    parser.add_argument('--dim',type=int,default=1)\n",
    "    parser.add_argument('--nx',type=int,default=19)\n",
    "    parser.add_argument('--ny',type=int,default=1)\n",
    "    parser.add_argument('--total_time',type=float,default=6)\n",
    "    parser.add_argument('--results-dir', type=str, default='results-debug')\n",
    "    parser.add_argument('--tf-arch', type=str, default='transformer_l4_d128_h4')\n",
    "    parser.add_argument('--train-id', type=str, default=\"debug\")\n",
    "    parser.add_argument('--reps', type=int, default=1)\n",
    "    parser.add_argument('--ns', type=int, default=800, help='number of samples per hamiltonian')\n",
    "    parser.add_argument('--iterations', type=int, default=500000, help=\"training iterations\")\n",
    "    parser.add_argument('--eval-every', type=int, default=1000)\n",
    "    parser.add_argument('--n_cpu', type=int, default=8, help='number of cpu threads to use during batch generation')\n",
    "    parser.add_argument('--verbose', type=int, default=1, choices=[0, 1])\n",
    "    parser.add_argument('--epoch-mode', type=int, default=1, choices=[0, 1])\n",
    "    parser.add_argument('--condition-mode', type=int, default=0, choices=[0, 1])\n",
    "    parser.add_argument('--seed', type=int, default=None)\n",
    "    return parser.parse_args(args)\n",
    "\n",
    "\n",
    "def get_hyperparams(**kwargs):\n",
    "    hparams = argparse.Namespace(\n",
    "        lr=1e-3,\n",
    "        wd=0,\n",
    "        bs=512,\n",
    "        dropout=0.0,\n",
    "        lr_scheduler=WARMUP_COSINE_SCHEDULER,\n",
    "        warmup_frac=0.,\n",
    "        final_lr=1e-7,\n",
    "        smoothing=0.0,\n",
    "        use_padding=0,\n",
    "        val_frac=0.25,\n",
    "        cattn=0\n",
    "    )\n",
    "\n",
    "    for k, v in kwargs.items():\n",
    "        setattr(hparams, k, v)\n",
    "\n",
    "    return hparams"
   ]
  },
  {
   "cell_type": "code",
   "execution_count": 4,
   "metadata": {
    "pycharm": {
     "name": "#%%\n"
    }
   },
   "outputs": [],
   "source": [
    "args = parse_args()\n",
    "hparams = get_hyperparams()"
   ]
  },
  {
   "cell_type": "code",
   "execution_count": 5,
   "metadata": {},
   "outputs": [
    {
     "data": {
      "application/vnd.jupyter.widget-view+json": {
       "model_id": "b60d74ad94bc4aac88e7dfbf490c8f29",
       "version_major": 2,
       "version_minor": 0
      },
      "text/plain": [
       "  0%|          | 0/11 [00:00<?, ?it/s]"
      ]
     },
     "metadata": {},
     "output_type": "display_data"
    }
   ],
   "source": [
    "\n",
    "\n",
    "dim=1 # dimension of the system\n",
    "ny = 1 # since we are working in 1D, this variable is fixed to 1\n",
    "\n",
    "total_time = 15 # Total adiabatic evolution time of the Bloqade simulation\n",
    "# We load simulation data for the lattice defined above with the adiabatic evolution scheduler preset above.\n",
    "meta_datasets = {}\n",
    "\n",
    "order_params = ['Z2','Z3',]\n",
    "hue_order = ['Disordered'] + order_params\n",
    "n_gen_samples = 1000\n",
    "\n",
    "all_nqs = np.arange(13,34,2).astype(int)\n",
    "z2_threshold = 0.7 # threshold for the Z2 order parameter to determine a state is in Z2 phase\n",
    "z3_threshold = 0.6 # threshold for the Z3 order parameter to determine a state is in Z3 phase\n",
    "\n",
    "root = '../'\n",
    "for n_qubits in tqdm(all_nqs):\n",
    "    nx = n_qubits\n",
    "    folder = root + f'data/rydberg/1D-Phase_{nx}/{float(np.round(total_time,2))}µs/'\n",
    "    # extra variables we want the conditional generative variable to condition on, except for \"nx\", \"ny\", \"interaction_range\".\n",
    "    # detuning = Delta/Omega\n",
    "    extra_variables = [\"detuning\",] \n",
    "    meta_dataset = RydbergDataset(dim=dim,nx = nx, ny=ny, folder=folder,n_threads=20, \n",
    "                                             var_name='interaction_range',variables = extra_variables) \n",
    "    meta_dataset.est_order_params()\n",
    "    meta_dataset.info[\"phase\" ] = determine_phase_1D(meta_dataset.info[\"Z2\"], meta_dataset.info[\"Z3\"],z3_threshold=z3_threshold,z2_threshold=z2_threshold)\n",
    "    meta_datasets[nx] = meta_dataset"
   ]
  },
  {
   "cell_type": "code",
   "execution_count": null,
   "metadata": {},
   "outputs": [],
   "source": []
  },
  {
   "cell_type": "code",
   "execution_count": 6,
   "metadata": {},
   "outputs": [],
   "source": [
    "def process_df(input_df):\n",
    "    df = input_df.copy()\n",
    "    new_df = df.loc[(df['detuning'] >= -1)&(df['interaction_range'] <= 2.8)&(df['interaction_range'] > 1.)]\n",
    "    return new_df"
   ]
  },
  {
   "cell_type": "code",
   "execution_count": 7,
   "metadata": {},
   "outputs": [
    {
     "data": {
      "image/png": "[encoded data removed]",
      "text/plain": [
       "<Figure size 1152x180 with 8 Axes>"
      ]
     },
     "metadata": {
      "needs_background": "light"
     },
     "output_type": "display_data"
    }
   ],
   "source": [
    "fig, axes = plt.subplots(nrows=1, ncols=8,figsize=(16,2.5))\n",
    "plot_nqs = [19,21,23,25,27,29,31,33]\n",
    "for j,nx in enumerate(plot_nqs):\n",
    "    plot_df = process_df(meta_datasets[nx].info.copy())\n",
    "\n",
    "    plot_df['phase'] = determine_phase_1D(plot_df['Z2'].values,plot_df['Z3'].values,z3_threshold=z3_threshold,z2_threshold=z2_threshold,)\n",
    "    plot_df = plot_df.sort_values(['phase'])\n",
    "    stage = 'Train' if (nx < 31) else 'Test'\n",
    "    title = f\"{nx} Atoms ({stage})\"\n",
    "    title_config  = {'color':'tab:blue','y':1.02} if stage == 'Test' else {}\n",
    "    legend_config=dict(loc='upper left', fontsize=12, bbox_to_anchor=(1., .9))\n",
    "    if j == 0: kwargs = dict(y_label=True,y_ticks=True,legend=False)\n",
    "    else: kwargs = dict(y_label=False,y_ticks=False,legend=False, )\n",
    "    if j == len(plot_nqs) - 1: kwargs['legend'] = True\n",
    "    plot_phase_diagram(plot_df,title=title,given_ax=axes[j],legend_config=legend_config,\n",
    "                       title_config=title_config,hue_order=hue_order,\n",
    "                       **kwargs)\n",
    "# fig.tight_layout()\n",
    "fig.savefig(root+'figs/paper/1D-rydberg-size_true.pdf',)"
   ]
  },
  {
   "cell_type": "code",
   "execution_count": 8,
   "metadata": {
    "pycharm": {
     "name": "#%%\n"
    }
   },
   "outputs": [],
   "source": [
    "def prepare_dataset(meta_datasets,train_domains:list,n_measurements:int = 1000):\n",
    "    train_set = {}\n",
    "    for t in train_domains:\n",
    "        meta_dataset = meta_datasets[t]\n",
    "        df = meta_dataset.info\n",
    "        df = process_df(df)\n",
    "        train_keys = meta_dataset.keys[df.index]\n",
    "        train_set.update(meta_dataset.prepare_train_set(train_keys,n_measurements=n_measurements))\n",
    "    return train_set"
   ]
  },
  {
   "cell_type": "markdown",
   "metadata": {},
   "source": [
    "**Train set**: Lattices of atoms = 13,15,...,29"
   ]
  },
  {
   "cell_type": "code",
   "execution_count": 9,
   "metadata": {
    "pycharm": {
     "name": "#%%\n"
    }
   },
   "outputs": [],
   "source": [
    "train_nqs = all_nqs[(all_nqs >= 13) * (all_nqs <= 29)]\n",
    "train_set = prepare_dataset(meta_datasets,train_domains=train_nqs,n_measurements=-1)"
   ]
  },
  {
   "cell_type": "markdown",
   "metadata": {
    "pycharm": {
     "name": "#%% md\n"
    }
   },
   "source": [
    "Define some hyper-parameters for the model & training."
   ]
  },
  {
   "cell_type": "code",
   "execution_count": 10,
   "metadata": {
    "pycharm": {
     "name": "#%%\n"
    }
   },
   "outputs": [],
   "source": [
    "num_outcomes = 2 # for rydberg systems\n",
    "\n",
    "n_vars = len(list(train_set.keys())[0])\n",
    "gpu_idx = 3\n",
    "device = torch.device(f\"cuda:{gpu_idx}\")\n",
    "\n",
    "rng = np.random.default_rng(seed=args.seed)\n",
    "# setup transformer\n",
    "d_model = TF_ARCHS[args.tf_arch]['d_model']\n",
    "n_head = TF_ARCHS[args.tf_arch]['n_head']\n",
    "n_layers = TF_ARCHS[args.tf_arch]['n_layers']\n",
    "assert d_model % n_head == 0, 'd_model must be integer multiple of n_head!'"
   ]
  },
  {
   "cell_type": "markdown",
   "metadata": {
    "pycharm": {
     "name": "#%% md\n"
    }
   },
   "source": [
    "We construct a MLP (fully-connected net) as the encoder and a transformer as the generative model, and then train the model"
   ]
  },
  {
   "cell_type": "code",
   "execution_count": 11,
   "metadata": {
    "pycharm": {
     "name": "#%%\n"
    }
   },
   "outputs": [],
   "source": [
    "encoder = MLP(input_size=n_vars, output_size=d_model, \n",
    "              n_layers=1, hidden_size=128, activation='ELU', \n",
    "              input_layer_norm=False,\n",
    "              output_batch_size=None, device=device,\n",
    "             output_factor=1.)\n",
    "\n",
    "transformer = init_conditional_transformer(\n",
    "        n_outcomes=num_outcomes,\n",
    "        encoder=encoder,\n",
    "        n_layers=n_layers,\n",
    "        d_model=d_model,\n",
    "        d_ff=4 * d_model,\n",
    "        n_heads=n_head,\n",
    "        dropout=hparams.dropout,\n",
    "        version=hparams.use_padding,\n",
    "        use_prompt=False,\n",
    ")"
   ]
  },
  {
   "cell_type": "markdown",
   "metadata": {
    "pycharm": {
     "name": "#%% md\n"
    }
   },
   "source": [
    "Construct a trainer for the conditional generative model"
   ]
  },
  {
   "cell_type": "code",
   "execution_count": 12,
   "metadata": {
    "pycharm": {
     "name": "#%%\n"
    }
   },
   "outputs": [],
   "source": [
    "trainer = RydbergConditionalTransformerTrainer(model=transformer,\n",
    "                                  train_dataset=train_set,\n",
    "                                  test_dataset=None,\n",
    "                                  iterations=args.iterations,\n",
    "                                  lr=hparams.lr,\n",
    "                                  final_lr=hparams.final_lr,\n",
    "                                  lr_scheduler=hparams.lr_scheduler,\n",
    "                                  warmup_frac=hparams.warmup_frac,\n",
    "                                  weight_decay=hparams.wd,\n",
    "                                  batch_size=hparams.bs,\n",
    "                                  rng=rng,\n",
    "                                  smoothing=hparams.smoothing,\n",
    "                                  eval_every=args.eval_every,\n",
    "                                  transfomer_version=hparams.use_padding,\n",
    "                                  device=device)"
   ]
  },
  {
   "cell_type": "code",
   "execution_count": 13,
   "metadata": {},
   "outputs": [],
   "source": [
    "load_pretrained = True # if load pretrained model"
   ]
  },
  {
   "cell_type": "code",
   "execution_count": 14,
   "metadata": {},
   "outputs": [
    {
     "name": "stdout",
     "output_type": "stream",
     "text": [
      "Loaded trained model from ../logs/rydberg_1D-size/transformer_nq-13-29_iter-500k.pth\n"
     ]
    }
   ],
   "source": [
    "model_name = f'transformer_nq-{train_nqs.min()}-{train_nqs.max()}_iter-{args.iterations//1000}k'\n",
    "if load_pretrained:\n",
    "    ckpt_path = root + f'logs/rydberg_1D-size/{model_name}.pth'\n",
    "    transformer = torch.load(ckpt_path).to(device)\n",
    "    transformer.device = device\n",
    "    print(f'Loaded trained model from {ckpt_path}')\n",
    "else: # Train\n",
    "    trainer.train() \n",
    "    torch.save(transformer, root + f'logs/rydberg_1D-size/{model_name}.pth') # You can save the trained model"
   ]
  },
  {
   "cell_type": "markdown",
   "metadata": {
    "pycharm": {
     "name": "#%% md\n"
    }
   },
   "source": [
    "### Evaluation Stage\n",
    "Let us first prepare for evaluation"
   ]
  },
  {
   "cell_type": "code",
   "execution_count": 15,
   "metadata": {},
   "outputs": [],
   "source": [
    "test_nqs = all_nqs[all_nqs > 27]\n",
    "test_set = prepare_dataset(meta_datasets,train_domains=train_nqs,n_measurements=-1)"
   ]
  },
  {
   "cell_type": "code",
   "execution_count": 16,
   "metadata": {
    "pycharm": {
     "name": "#%%\n"
    }
   },
   "outputs": [],
   "source": [
    "transformer.eval()\n",
    "train_keys = list(train_set.keys())"
   ]
  },
  {
   "cell_type": "markdown",
   "metadata": {
    "pycharm": {
     "name": "#%% md\n"
    }
   },
   "source": [
    "We use the trained conditional generative model to generate measurements for systems of interest, then estimate the expectation value of each order parameter based on the generated measurements. "
   ]
  },
  {
   "cell_type": "code",
   "execution_count": 17,
   "metadata": {
    "pycharm": {
     "name": "#%%\n"
    }
   },
   "outputs": [],
   "source": [
    "dfs_CGM = {}"
   ]
  },
  {
   "cell_type": "code",
   "execution_count": 18,
   "metadata": {
    "pycharm": {
     "name": "#%%\n"
    }
   },
   "outputs": [
    {
     "data": {
      "application/vnd.jupyter.widget-view+json": {
       "model_id": "0fd2b75c2186471eae40e1ad1613da12",
       "version_major": 2,
       "version_minor": 0
      },
      "text/plain": [
       "Time:   0%|          | 0/2 [00:00<?, ?it/s]"
      ]
     },
     "metadata": {},
     "output_type": "display_data"
    },
    {
     "data": {
      "application/vnd.jupyter.widget-view+json": {
       "model_id": "",
       "version_major": 2,
       "version_minor": 0
      },
      "text/plain": [
       "iter:   0%|          | 0/1152 [00:00<?, ?it/s]"
      ]
     },
     "metadata": {},
     "output_type": "display_data"
    },
    {
     "data": {
      "application/vnd.jupyter.widget-view+json": {
       "model_id": "",
       "version_major": 2,
       "version_minor": 0
      },
      "text/plain": [
       "iter:   0%|          | 0/1152 [00:00<?, ?it/s]"
      ]
     },
     "metadata": {},
     "output_type": "display_data"
    }
   ],
   "source": [
    "for nx in tqdm([31,33],desc='Time'):\n",
    "    meta_dataset = meta_datasets[nx]\n",
    "    meta_dataset.est_order_params(order_params)\n",
    "    df = meta_dataset.info.copy()\n",
    "    for order_param in order_params:\n",
    "        df[order_param] = np.nan\n",
    "    test_df = process_df(df)\n",
    "    densities = {}\n",
    "    torch.manual_seed(0) # Set seed to ensure reproduction\n",
    "    torch.cuda.manual_seed(0)\n",
    "    for idx in tqdm(test_df.index,desc=\"iter\",leave=False):\n",
    "        key = meta_dataset.keys[idx]\n",
    "        nx,ny = int(key[0]), int(key[1])\n",
    "        condition = torch.from_numpy(np.array([list(key)])).float().to(device)\n",
    "        gen_samples = transformer.sample_batch(cond_var=condition,batch_size=n_gen_samples,\n",
    "                                               num_qubits=nx*ny)\n",
    "        for order_param in order_params:\n",
    "            test_df.loc[idx, order_param] = est_order_param_1D_from_measurements(gen_samples,\n",
    "                                                                                 order_param=order_param)\n",
    "    test_df['phase'] = determine_phase_1D(test_df['Z2'].values, test_df['Z3'].values,z3_threshold=z3_threshold,z2_threshold=z2_threshold)\n",
    "    dfs_CGM[nx] = test_df"
   ]
  },
  {
   "cell_type": "code",
   "execution_count": 19,
   "metadata": {},
   "outputs": [],
   "source": [
    "from src.models.kernels import build_dirichlet_kernel,build_NTK\n",
    "from sklearn.model_selection import cross_val_score\n",
    "from sklearn import svm\n",
    "from sklearn.kernel_ridge import KernelRidge\n",
    "from sklearn.preprocessing import StandardScaler,MinMaxScaler,Normalizer"
   ]
  },
  {
   "cell_type": "code",
   "execution_count": 20,
   "metadata": {},
   "outputs": [],
   "source": [
    "train_keys = list(train_set.keys())\n",
    "f_label = est_order_param_1D if dim == 1 else est_order_param_2D # labelling function (density --> label)\n",
    "base_kwargs = {}\n",
    "Xs,Xs_test,Ys,Ys_test = [],[],[],[]\n",
    "for key, measurements in train_set.items():\n",
    "    x = np.array(key)\n",
    "    density = np.mean(measurements,axis=0)\n",
    "    y = [est_order_param_1D_from_measurements(measurements,order_param=order_param,**base_kwargs) for order_param in order_params]\n",
    "    # y = density\n",
    "    Xs.append(x)\n",
    "    Ys.append(y)\n",
    "Xs,Ys = np.array(Xs),np.array(Ys)\n",
    "\n",
    "scaler = MinMaxScaler()#Normalizer()\n",
    "# scaler = StandardScaler()\n",
    "Xs = scaler.fit_transform(Xs)\n",
    "# Xs_test = scaler.transform(meta_dataset.keys[test_idxes])\n",
    "# Ys_test = meta_dataset.info.loc[test_idxes][order_params].values"
   ]
  },
  {
   "cell_type": "code",
   "execution_count": 21,
   "metadata": {},
   "outputs": [],
   "source": [
    "C = 1000000\n",
    "clf_rbf = KernelRidge(kernel='rbf',alpha=1/(2*C)).fit(Xs,Ys)"
   ]
  },
  {
   "cell_type": "code",
   "execution_count": 22,
   "metadata": {},
   "outputs": [],
   "source": [
    "# We found the GPU version of Jax doesn't give stable NTK results when the regularization is very small, \n",
    "# i.e., the coefficient C is large.\n",
    "# So we let Jax to run on CPU only when computing the NTK\n",
    "os.environ[\"JAX_PLATFORM_NAME\"] = \"cpu\""
   ]
  },
  {
   "cell_type": "code",
   "execution_count": 23,
   "metadata": {},
   "outputs": [
    {
     "name": "stderr",
     "output_type": "stream",
     "text": [
      "WARNING:jax._src.lib.xla_bridge:No GPU/TPU found, falling back to CPU. (Set TF_CPP_MIN_LOG_LEVEL=0 and rerun for more info.)\n"
     ]
    }
   ],
   "source": [
    "C_ntk = 1000\n",
    "NTK, ntk_pred_fn = build_NTK(Xs,Ys,C=C_ntk,layers=10, # larger layers --> unstable predictions\n",
    "                             normalize=False,activation='Erf')"
   ]
  },
  {
   "cell_type": "code",
   "execution_count": 24,
   "metadata": {},
   "outputs": [
    {
     "data": {
      "application/vnd.jupyter.widget-view+json": {
       "model_id": "58d5b0300afa454bbeea611c49d0a304",
       "version_major": 2,
       "version_minor": 0
      },
      "text/plain": [
       "  0%|          | 0/2 [00:00<?, ?it/s]"
      ]
     },
     "metadata": {},
     "output_type": "display_data"
    }
   ],
   "source": [
    "dfs_rbf = {}\n",
    "dfs_ntk = {}\n",
    "for nx in tqdm([31,33]):\n",
    "    meta_dataset = meta_datasets[nx]\n",
    "    plot_df = process_df(meta_dataset.info.copy())\n",
    "    df = plot_df.copy()\n",
    "    for order_param in order_params:\n",
    "        df[order_param] = np.nan\n",
    "    keys = meta_dataset.keys[df.index.values]\n",
    "    xs = scaler.transform(keys)\n",
    "\n",
    "    df_copy = df.copy()\n",
    "    df[order_params] = clf_rbf.predict(xs)\n",
    "    df['phase'] = determine_phase_1D(df['Z2'].values, df['Z3'].values,z3_threshold=z3_threshold,z2_threshold=z2_threshold)\n",
    "    df_rbf = df.copy()\n",
    "    dfs_rbf[nx] = df_rbf\n",
    "    \n",
    "    df = df_copy.copy()\n",
    "    df[order_params] = ntk_pred_fn(xs)\n",
    "    df['phase'] = determine_phase_1D(df['Z2'].values, df['Z3'].values,z3_threshold=z3_threshold,z2_threshold=z2_threshold)\n",
    "    df_ntk = df.copy()\n",
    "    dfs_ntk[nx] = df_ntk"
   ]
  },
  {
   "cell_type": "code",
   "execution_count": 25,
   "metadata": {},
   "outputs": [
    {
     "data": {
      "image/png": "[encoded data removed]",
      "text/plain": [
       "<Figure size 360x216 with 2 Axes>"
      ]
     },
     "metadata": {
      "needs_background": "light"
     },
     "output_type": "display_data"
    }
   ],
   "source": [
    "fig, axes = plt.subplots(nrows=1, ncols=2,figsize=(5.0,3.0))\n",
    "row = 'Ours'\n",
    "for j,nx in  enumerate([31,33]):\n",
    "    test_df = dfs_CGM[nx]\n",
    "    plot_df = process_df(test_df).copy()\n",
    "\n",
    "    plot_df['phase'] = determine_phase_1D(plot_df['Z2'].values,plot_df['Z3'].values,z3_threshold=z3_threshold,\n",
    "                                          z2_threshold=z2_threshold,)\n",
    "    plot_df = plot_df.sort_values(['phase'])\n",
    "    title = f\"{nx} Atoms (Test)\"\n",
    "    title_config = dict(fontsize=14,color='tab:blue')\n",
    "    legend_config=dict(loc='upper left', fontsize=12, bbox_to_anchor=(-.025, 1.025))\n",
    "    if j == 0: kwargs = {\"y_label\":True,\"y_ticks\":True,\"legend\":False}\n",
    "    else: kwargs = dict(y_label=False,y_ticks=False,legend=True)\n",
    "    plot_phase_diagram(plot_df,title=title,given_ax=axes[j],hue_order=hue_order,\n",
    "                       legend_config=legend_config, title_config=title_config,**kwargs)\n",
    "fig.tight_layout()\n",
    "fig.savefig(root+'figs/paper/1D-rydberg-size_test-ours.pdf')"
   ]
  },
  {
   "cell_type": "code",
   "execution_count": 26,
   "metadata": {},
   "outputs": [
    {
     "data": {
      "image/png": "[encoded data removed]",
      "text/plain": [
       "<Figure size 360x216 with 2 Axes>"
      ]
     },
     "metadata": {
      "needs_background": "light"
     },
     "output_type": "display_data"
    }
   ],
   "source": [
    "fig, axes = plt.subplots(nrows=1, ncols=2,figsize=(5.0,3.0))\n",
    "row = 'Gaussian Kernel'\n",
    "for j,nx in  enumerate([31,33]):\n",
    "    test_df = dfs_rbf[nx]\n",
    "    plot_df = process_df(test_df).copy()\n",
    "\n",
    "    plot_df['phase'] = determine_phase_1D(plot_df['Z2'].values,plot_df['Z3'].values,z3_threshold=z3_threshold,\n",
    "                                          z2_threshold=z2_threshold,)\n",
    "    plot_df = plot_df.sort_values(['phase'])\n",
    "    title = f\"{nx} Atoms (Test)\"\n",
    "    title_config = dict(fontsize=14,color='tab:blue')\n",
    "    legend_config=dict(loc='upper left', fontsize=12, bbox_to_anchor=(-.025, 1.025))\n",
    "    if j == 0: kwargs = {\"y_label\":True,\"y_ticks\":True,\"legend\":False} \n",
    "    else: kwargs = dict(y_label=False,y_ticks=False,legend=True)\n",
    "    plot_phase_diagram(plot_df,title=title,given_ax=axes[j],hue_order=hue_order,\n",
    "                       legend_config=legend_config, title_config=title_config,**kwargs)\n",
    "fig.tight_layout()\n",
    "fig.savefig(root+'figs/paper/1D-rydberg-size_test-rbf.pdf',)"
   ]
  },
  {
   "cell_type": "code",
   "execution_count": 27,
   "metadata": {},
   "outputs": [
    {
     "data": {
      "image/png": "[encoded data removed]",
      "text/plain": [
       "<Figure size 360x216 with 2 Axes>"
      ]
     },
     "metadata": {
      "needs_background": "light"
     },
     "output_type": "display_data"
    }
   ],
   "source": [
    "fig, axes = plt.subplots(nrows=1, ncols=2,figsize=(5.0,3.0))\n",
    "row = 'NTK'\n",
    "for j,nx in  enumerate([31,33]):\n",
    "    test_df = dfs_ntk[nx]\n",
    "    plot_df = process_df(test_df).copy()\n",
    "\n",
    "    plot_df['phase'] = determine_phase_1D(plot_df['Z2'].values,plot_df['Z3'].values,z3_threshold=z3_threshold,\n",
    "                                          z2_threshold=z2_threshold,)\n",
    "    plot_df = plot_df.sort_values(['phase'])\n",
    "    title = f\"{nx} Atoms (Test)\"\n",
    "    title_config = dict(fontsize=14,color='tab:blue')\n",
    "    legend_config=dict(loc='upper left', fontsize=12, bbox_to_anchor=(-.025, 1.025))\n",
    "    if j == 0: kwargs = {\"y_label\":True,\"y_ticks\":True,\"legend\":False}\n",
    "    else: kwargs = dict(y_label=False,y_ticks=False,legend=True)\n",
    "    plot_phase_diagram(plot_df,title=title,given_ax=axes[j],hue_order=hue_order,\n",
    "                       legend_config=legend_config, title_config=title_config,**kwargs)\n",
    "fig.tight_layout()\n",
    "fig.savefig(root+'figs/paper/1D-rydberg-size_test-ntk.pdf')"
   ]
  },
  {
   "cell_type": "code",
   "execution_count": null,
   "metadata": {},
   "outputs": [],
   "source": []
  }
 ],
 "metadata": {
  "kernelspec": {
   "display_name": "Python 3 (ipykernel)",
   "language": "python",
   "name": "python3"
  },
  "language_info": {
   "codemirror_mode": {
    "name": "ipython",
    "version": 3
   },
   "file_extension": ".py",
   "mimetype": "text/x-python",
   "name": "python",
   "nbconvert_exporter": "python",
   "pygments_lexer": "ipython3",
   "version": "3.9.7"
  }
 },
 "nbformat": 4,
 "nbformat_minor": 4
}
