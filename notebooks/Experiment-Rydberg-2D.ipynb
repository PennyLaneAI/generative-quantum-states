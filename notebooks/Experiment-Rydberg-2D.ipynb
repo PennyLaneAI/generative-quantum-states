{
 "cells": [
  {
   "cell_type": "markdown",
   "id": "6f6f1c1e-f66b-4466-8425-423ccaa9d0a0",
   "metadata": {
    "pycharm": {
     "name": "#%% md\n"
    }
   },
   "source": [
    "# Phase Prediction of 2D Rydberg Atom Systems with Conditional Generative Models\n",
    "Haoxiang Wang (hwang264@illinois.edu)\n",
    "\n",
    "Work done as an applied scientist intern at Amazon Braket in 2022"
   ]
  },
  {
   "cell_type": "code",
   "execution_count": 1,
   "id": "3d20a547-f709-417e-a6e5-4e5105bc473e",
   "metadata": {
    "pycharm": {
     "name": "#%%\n"
    }
   },
   "outputs": [],
   "source": [
    "import sys\n",
    "# to read modules from the parent directory\n",
    "sys.path.insert(0,'..')"
   ]
  },
  {
   "cell_type": "code",
   "execution_count": 2,
   "id": "fb3e767a-b836-49fa-9e18-a4bbf62c0748",
   "metadata": {
    "pycharm": {
     "name": "#%%\n"
    }
   },
   "outputs": [],
   "source": [
    "import numpy as np\n",
    "import pickle\n",
    "from time import time\n",
    "from joblib import Parallel, delayed\n",
    "from src.models.mlp import MLP\n",
    "from src.eval import RydbergEvaluator\n",
    "from src.eval.eval_rydberg import est_density_from_z_measurements,determine_phase_1D,determine_phase_2D,est_order_param_1D,phase2img,est_phase_diagram,est_order_param_1D_fourier_from_measurements,est_order_param_1D_fourier,fourier_transform_square_lattice,est_order_param_2D_from_measurements\n",
    "from src.data.loading.dataset_rydberg import RydbergDataset,unif_sample_on_grid\n",
    "# Transformer\n",
    "import argparse\n",
    "from constants import *\n",
    "from src.training.rydberg_trainers import RydbergConditionalTransformerTrainer\n",
    "from src.models.transformer import init_conditional_transformer\n",
    "from src.models.mlp import MLP\n",
    "\n",
    "\n",
    "import torch\n",
    "import pandas as pd\n",
    "import warnings\n",
    "import matplotlib.pyplot as plt\n",
    "import seaborn as sns\n",
    "from tqdm.notebook import tqdm,trange\n",
    "import os\n",
    "\n",
    "from src.utils import plot_phase_diagram\n",
    "warnings.filterwarnings('ignore')\n",
    "%load_ext autoreload\n",
    "%autoreload 2\n",
    "%matplotlib inline"
   ]
  },
  {
   "cell_type": "markdown",
   "id": "6e9ff34f-2e6c-439a-a6c5-f25a7d4918d8",
   "metadata": {
    "pycharm": {
     "name": "#%% md\n"
    },
    "tags": []
   },
   "source": [
    "## Rydberg Hamiltonian\n",
    "This example is about trapped Rydberg atoms, a class of highly controllable neural atoms that can be used to build programmable Ising-type quantum simulators \\cite{Rydberg-spin-liquids,Rydberg1D-51atoms,Rydberg2D-256atoms}. In Ising-type quantum simulations, a Rydberg atom is effectively considered as a two-level system consisting of a ground state $| g \\rangle$ (i.e., $|0\\rangle$) and a highly-excited state $ | r\\rangle$ (i.e., $|1 \\rangle$) called Rydberg state. Rydberg atoms can be allocated on a plane and trapped by light tweezers. In \\cite{Rydberg1D-51atoms}, Rydberg atoms are placed along a 1D lattice (i.e., a chain) equidistantly, while \\cite{Rydberg2D-256atoms} allocates the atoms as a 2D square lattice. For either a 1D or 2D lattice of Rydberg atoms, denoting the nearest-neighbor distance of atoms $a$, the Hamiltonian of such a system can be described by\n",
    "\\begin{align}\\label{eq:H-rydberg}\n",
    "    H=\\frac{\\Omega}{2} \\sum_{i} X_{i}-\\Delta \\sum_{i} N_{i}+\\sum_{i<j}\\left(\\frac{V_{0}}{|\\vec x_i- \\vec x_j|}\\right)^{6} N_{i} N_{j} ~,\n",
    "\\end{align}\n",
    "where $\\Omega$ is the Rabi frequency, $\\Delta$ is the detuning of laser, $R_b$ is a constant, $\\vec x_i$ is the location vector of the qubit $i$, and $N_i$ is the occupation number operator at site $i$, i.e., $N_i = |{r_i}\\rangle \\langle {r_i} |$\n"
   ]
  },
  {
   "cell_type": "markdown",
   "id": "bc4b101d-ff26-43af-bf00-c0bbc7cd16c8",
   "metadata": {
    "pycharm": {
     "name": "#%% md\n"
    }
   },
   "source": [
    "## Approximate Ground States via Adiabatic Evolution\n",
    "\n",
    "The many-body ground state of a Rydberg Hamiltonian is typically obtained via \\textit{adiabatic evolution}. \n",
    "Initially, each Rydberg atom is prepared in its ground state $|0\\rangle$ (with high precision) such that the many-body state is $|0\\dots 0\\rangle$, which is the ground state of the Rydberg Hamiltonian with a large negative detuning $\\Delta$ and zero-valued $\\Omega$. Then, the detuning strength $\\Delta$ is ramped up gradually to positive values, while the Rabi frequency is turned on (i.e., $\\Omega > 0$). Clearly, the Hamiltonian of the Rydberg system is time-dependent according to a custom scheduler for $\\Delta$ and $\\Omega$. By the Adiabatic Theorem of quantum mechanics, we know as the time evolution process is slow enough, the quantum state of the system always stays closes to the ground state of the time-dependent Hamiltonian at any time step. Therefore, as the evolution process is sufficiently slow, we can end up with a prepared state that is approximately the ground state of the final Hamiltonian. "
   ]
  },
  {
   "cell_type": "markdown",
   "id": "d3c8e5e0-7a08-4c35-9b1b-027f282bae4c",
   "metadata": {
    "pycharm": {
     "name": "#%% md\n"
    }
   },
   "source": [
    "## Load Simulation Results of Adiabatic Evolution\n",
    "\n",
    "We conducted classical simulations for the adiabatic evolution of 2D Rydberg systems using [Bloqade.jl](https://github.com/QuEraComputing/Bloqade.jl/). The code for the simulation is presented in `rydberg/`.\n",
    "\n",
    "Below, we load simulation data stored in `data/rydberg`.\n",
    "+ For each simulation run of adiabatic evolution, we initiate a Rydberg lattice with a custom atom separation (i.e., $a$ in the Hamiltonian), and tune $\\Delta, \\Omega$ according to a preset scheduler. We take multiple time steps across the evolution, performing meausurements in the Z-basis, and save the measurement data locally.\n"
   ]
  },
  {
   "cell_type": "markdown",
   "id": "c09854ba-c1b8-4bdf-8b72-2fbab6f934c7",
   "metadata": {
    "pycharm": {
     "name": "#%% md\n"
    }
   },
   "source": [
    "### Scheduler for $\\Delta, \\Omega$\n",
    "Here we show the schedulers we use for the adiabatic evolution simulation."
   ]
  },
  {
   "cell_type": "code",
   "execution_count": 3,
   "id": "990d1f73-cdf7-48c4-8295-9e2057970a07",
   "metadata": {
    "collapsed": false,
    "jupyter": {
     "outputs_hidden": false
    },
    "pycharm": {
     "name": "#%%\n"
    }
   },
   "outputs": [
    {
     "data": {
      "image/png": "[encoded data removed]",
      "text/plain": [
       "<Figure size 720x216 with 2 Axes>"
      ]
     },
     "metadata": {},
     "output_type": "display_data"
    }
   ],
   "source": [
    "# Here we define a base schedule -- \n",
    "sns.set_style('whitegrid')\n",
    "base_time = 3.5\n",
    "ts = np.array([0,0.2,base_time])\n",
    "omegas_2 = np.array([0, 4.3, 4.3])\n",
    "deltas_2 = np.array([-15, -15, 20])\n",
    "\n",
    "omegas_1 = np.array([0, 5, 5])\n",
    "deltas_1 = np.array([-10, -10, 15])\n",
    "\n",
    "total_time = 3 # Total adiabatic evolution time of the Bloqade simulation\n",
    "# We propotionally lengthen the schedules for Omega and Delta by time_ratio = total_time/base_time\n",
    "time_ratio = total_time/base_time\n",
    "\n",
    "\n",
    "fig, (ax1, ax2) = plt.subplots(ncols = 2, figsize = (10, 3))\n",
    "ax1.plot(ts*time_ratio, omegas_1,label='1D Lattice')\n",
    "ax1.plot(ts*time_ratio, omegas_2,label='2D Lattice')\n",
    "ax1.set_ylabel(\"Ω/2π (MHz)\")\n",
    "ax1.set_xlabel(\"Time (μs)\")\n",
    "ax1.set_title(\"Scheduler for Ω\")\n",
    "ax1.legend(loc='lower right')\n",
    "ax2.plot(ts*time_ratio, deltas_1,label='1D Lattice')\n",
    "ax2.plot(ts*time_ratio, deltas_2,label='2D Lattice')\n",
    "ax2.legend(loc='lower right')\n",
    "ax2.set_ylabel(\"Δ/2π (MHz)\")\n",
    "ax2.set_xlabel(\"Time (μs)\")\n",
    "ax2.set_title(\"Scheduler for Δ\")\n",
    "fig.tight_layout()"
   ]
  },
  {
   "cell_type": "markdown",
   "id": "6f93b11a-94c8-4878-9481-4e76a48d964c",
   "metadata": {
    "pycharm": {
     "name": "#%% md\n"
    }
   },
   "source": [
    "Now we load simulated data."
   ]
  },
  {
   "cell_type": "markdown",
   "id": "c913aca6-23da-4fcf-a3a9-4df4ee079a64",
   "metadata": {
    "pycharm": {
     "name": "#%% md\n"
    }
   },
   "source": [
    "## Phase Diagram of Rydberg Lattice\n",
    "\n"
   ]
  },
  {
   "cell_type": "code",
   "execution_count": 4,
   "id": "a5d279aa",
   "metadata": {},
   "outputs": [],
   "source": [
    "nx,ny=5,5\n",
    "n_qubits = nx*ny \n",
    "dim = 2\n",
    "total_time = 3\n",
    "root = '../'\n",
    "folder = root+ f'data/rydberg/2D-Phase_{nx}x{ny}/{float(np.round(total_time,2))}µs/'"
   ]
  },
  {
   "cell_type": "code",
   "execution_count": 5,
   "id": "30440185-0e9d-42a4-b197-bd87d324d37d",
   "metadata": {},
   "outputs": [],
   "source": [
    "meta_dataset = RydbergDataset(dim=dim,nx = nx, ny=ny, folder=folder,n_threads=20, var_name='interaction_range',) "
   ]
  },
  {
   "cell_type": "code",
   "execution_count": 6,
   "id": "1245f6d4-7632-433e-b456-d5d26dc82464",
   "metadata": {},
   "outputs": [],
   "source": [
    "order_params = ['Checkboard','Striated','Staggered']\n",
    "n_gen_samples = 1000\n",
    "base_kwargs = {'nx':nx, \n",
    "              'ny':ny}\n",
    "xlabel = 'detuning'\n",
    "ylabel = 'interaction_range'\n",
    "phases_gen ={} \n",
    "phases_true={}"
   ]
  },
  {
   "cell_type": "code",
   "execution_count": 7,
   "id": "619fbbe7-b7d8-45e6-9229-efbb99fd35c5",
   "metadata": {},
   "outputs": [],
   "source": [
    "meta_dataset.est_order_params(order_params=order_params,est_from_measurements=True)\n",
    "df = meta_dataset.info.copy()"
   ]
  },
  {
   "cell_type": "code",
   "execution_count": 8,
   "id": "eafad1c3-7081-4fd7-a7b8-7f417e34e414",
   "metadata": {},
   "outputs": [],
   "source": [
    "threshold = 0.65\n",
    "df['phase'] = determine_phase_2D(df,order_params,threshold=threshold)"
   ]
  },
  {
   "cell_type": "code",
   "execution_count": 9,
   "id": "7a69e9d6",
   "metadata": {},
   "outputs": [],
   "source": [
    "hue_order = ['Disordered']+order_params"
   ]
  },
  {
   "cell_type": "code",
   "execution_count": 10,
   "id": "4da8d082-38cd-439d-8cda-2a85f455b4cb",
   "metadata": {
    "pycharm": {
     "name": "#%%\n"
    }
   },
   "outputs": [
    {
     "data": {
      "image/png": "[encoded data removed]",
      "text/plain": [
       "<Figure size 295.2x324 with 1 Axes>"
      ]
     },
     "metadata": {},
     "output_type": "display_data"
    }
   ],
   "source": [
    "sns.set_style('white')\n",
    "plot_df = df.copy()\n",
    "plot_df = plot_df.iloc[np.isin(plot_df['interaction_range'].values, np.unique(plot_df['interaction_range'].unique())[::2])]\n",
    "plot_df = plot_df.loc[(plot_df['detuning'] >=-1) & (plot_df['interaction_range'] > 1)]\n",
    "fig = plot_phase_diagram(plot_df,title=f\"{nx}×{ny} Rydberg Atoms: Phase Diagram\",\n",
    "                         hue_order =hue_order, legend=True)"
   ]
  },
  {
   "cell_type": "markdown",
   "id": "0bdf93c4-2293-4c17-b5c4-df74fa2a15b6",
   "metadata": {
    "pycharm": {
     "name": "#%% md\n"
    }
   },
   "source": [
    "## Prepare Training Set\n",
    "\n",
    "We split the phase diagram by grids (defined by `x_bins` and `y_bins`), and sample one point in each grid for training. Each point represents the ground state of one quantum system with the corresponding variables ($a,\\Delta,\\Omega$)."
   ]
  },
  {
   "cell_type": "code",
   "execution_count": 11,
   "id": "2ce98876-ddc0-4906-b433-04ea3e77d4fa",
   "metadata": {
    "pycharm": {
     "name": "#%%\n"
    }
   },
   "outputs": [],
   "source": [
    "\n",
    "def prepare_train_set(meta_dataset, df=None, n_measurements:int = -1, x_bins=10,y_bins=10):\n",
    "    train_set = {}\n",
    "    if df is None: df = meta_dataset.info\n",
    "    train_idxes, train_df = unif_sample_on_grid(df.copy(),x_bins=x_bins,y_bins=y_bins)#,x_range=(0.4,1.78),y_range=(1.4,2.4))\n",
    "    # train_idxes = plot_df.index.values\n",
    "    train_keys = meta_dataset.keys[train_idxes]\n",
    "    train_set.update(meta_dataset.prepare_train_set(train_keys,n_measurements=n_measurements))\n",
    "    return train_set, train_idxes\n",
    "    "
   ]
  },
  {
   "cell_type": "code",
   "execution_count": 12,
   "id": "058c9abc",
   "metadata": {},
   "outputs": [],
   "source": [
    "load_pretrained = True"
   ]
  },
  {
   "cell_type": "code",
   "execution_count": 13,
   "id": "a8090391-e45a-420c-809e-80d706989605",
   "metadata": {},
   "outputs": [],
   "source": [
    "if load_pretrained:\n",
    "    train_idxes = np.load(root + 'logs/rydberg_2D/train_idxes.npy')\n",
    "    train_set = pickle.load( open(root + 'logs/rydberg_2D/train_set.pkl','rb'))\n",
    "    # np.save('logs/rydberg_2D/train_idxes.npy',train_idxes)\n",
    "    # pickle.dump(train_set, open('logs/rydberg_2D/train_set.pkl','wb'))\n",
    "    # pickle.dump(meta_dataset, open('logs/rydberg_2D/meta_dataset.pkl','wb'))\n",
    "else: \n",
    "    train_set, train_idxes = prepare_train_set(meta_dataset,df=plot_df)\n",
    "    # meta_dataset = pickle.load(open('logs/rydberg_2D/meta_dataset.pkl','rb'))"
   ]
  },
  {
   "cell_type": "markdown",
   "id": "ac9322fa-271d-40ae-a194-c22ac2dd1390",
   "metadata": {
    "pycharm": {
     "name": "#%% md\n"
    }
   },
   "source": [
    "+ The darker points are the sysmtems used for training."
   ]
  },
  {
   "cell_type": "code",
   "execution_count": 14,
   "id": "0d58ee13-af2b-4400-95a3-d3fa23516770",
   "metadata": {},
   "outputs": [],
   "source": [
    "hue_order = ['Disordered']+order_params"
   ]
  },
  {
   "cell_type": "code",
   "execution_count": 15,
   "id": "f76f6d9d-9356-41d7-bfb3-2d1b08e13be3",
   "metadata": {
    "pycharm": {
     "name": "#%%\n"
    }
   },
   "outputs": [
    {
     "data": {
      "image/png": "[encoded data removed]",
      "text/plain": [
       "<Figure size 295.2x324 with 1 Axes>"
      ]
     },
     "metadata": {},
     "output_type": "display_data"
    }
   ],
   "source": [
    "fig_true = plot_phase_diagram(plot_df,title=f\"True Phase Diagram\",train_idxes=train_idxes,\n",
    "                              hue_order = hue_order, legend=True)"
   ]
  },
  {
   "cell_type": "code",
   "execution_count": 16,
   "id": "b7bd3b62-23bc-4df2-9add-fd66cd370277",
   "metadata": {},
   "outputs": [
    {
     "data": {
      "text/plain": [
       "810"
      ]
     },
     "execution_count": 16,
     "metadata": {},
     "output_type": "execute_result"
    }
   ],
   "source": [
    "len(plot_df)"
   ]
  },
  {
   "cell_type": "markdown",
   "id": "6456977d-eeec-4491-b06a-21214cf8235a",
   "metadata": {
    "pycharm": {
     "name": "#%% md\n"
    }
   },
   "source": [
    "## Train a Conditional Generative Model\n",
    "\n",
    "We first define some hyperparameters as follows"
   ]
  },
  {
   "cell_type": "code",
   "execution_count": 17,
   "id": "82c67731-51f4-4880-aa48-c16f8e530ea4",
   "metadata": {},
   "outputs": [],
   "source": [
    "def parse_args(args=[]):\n",
    "    parser = argparse.ArgumentParser()\n",
    "    parser.add_argument('--dim',type=int,default=1)\n",
    "    parser.add_argument('--nx',type=int,default=19)\n",
    "    parser.add_argument('--ny',type=int,default=1)\n",
    "    parser.add_argument('--total_time',type=float,default=6)\n",
    "    parser.add_argument('--results-dir', type=str, default='results-debug')\n",
    "    parser.add_argument('--tf-arch', type=str, default='transformer_l4_d128_h4')\n",
    "    parser.add_argument('--reps', type=int, default=1)\n",
    "    parser.add_argument('--ns', type=int, default=800, help='number of samples per hamiltonian')\n",
    "    parser.add_argument('--iterations', type=int, default=50000, help=\"training iterations\")\n",
    "    parser.add_argument('--eval-every', type=int, default=100)\n",
    "    parser.add_argument('--eval-samples', type=int, default=10000, help='number of generated samples for evaluation')\n",
    "    parser.add_argument('--k', type=int, default=1, help='number of buckets for median of means estimation')\n",
    "    parser.add_argument('--n_cpu', type=int, default=8, help='number of cpu threads to use during batch generation')\n",
    "    parser.add_argument('--verbose', type=int, default=1, choices=[0, 1])\n",
    "    parser.add_argument('--epoch-mode', type=int, default=1, choices=[0, 1])\n",
    "    parser.add_argument('--condition-mode', type=int, default=0, choices=[0, 1])\n",
    "    parser.add_argument('--seed', type=int, default=None)\n",
    "    return parser.parse_args(args)\n",
    "\n",
    "\n",
    "def get_hyperparams(**kwargs):\n",
    "    hparams = argparse.Namespace(\n",
    "        lr=1e-3,\n",
    "        wd=0,\n",
    "        bs=512,\n",
    "        dropout=0.0,\n",
    "        lr_scheduler=WARMUP_COSINE_SCHEDULER,\n",
    "        warmup_frac=0.,\n",
    "        final_lr=1e-7,\n",
    "        smoothing=0.0,\n",
    "        use_padding=0,\n",
    "        val_frac=0.25,\n",
    "        cattn=0\n",
    "    )\n",
    "\n",
    "    for k, v in kwargs.items():\n",
    "        setattr(hparams, k, v)\n",
    "\n",
    "    return hparams\n",
    "args = parse_args()\n",
    "hparams = get_hyperparams()"
   ]
  },
  {
   "cell_type": "code",
   "execution_count": 18,
   "id": "6e26e8b1-7ae4-454f-b6ec-dbff4d7dec02",
   "metadata": {},
   "outputs": [],
   "source": [
    "num_outcomes = 2 # for rydberg systems\n",
    "\n",
    "n_vars = len(list(train_set.keys())[0])\n",
    "gpu_idx = 1\n",
    "device = torch.device(f\"cuda:{gpu_idx}\")\n",
    "\n",
    "rng = np.random.default_rng(seed=args.seed)\n",
    "# setup transformer\n",
    "d_model = TF_ARCHS[args.tf_arch]['d_model']\n",
    "n_head = TF_ARCHS[args.tf_arch]['n_head']\n",
    "n_layers = TF_ARCHS[args.tf_arch]['n_layers']\n",
    "assert d_model % n_head == 0, 'd_model must be integer multiple of n_head!'"
   ]
  },
  {
   "cell_type": "markdown",
   "id": "68222403-40b4-4318-b583-93366f724e0a",
   "metadata": {
    "pycharm": {
     "name": "#%% md\n"
    }
   },
   "source": [
    "We construct a MLP (fully-connected net) as the encoder and a transformer as the generative model, and then train the model"
   ]
  },
  {
   "cell_type": "code",
   "execution_count": 19,
   "id": "b3cc995e",
   "metadata": {
    "pycharm": {
     "name": "#%%\n"
    }
   },
   "outputs": [],
   "source": [
    "encoder = MLP(input_size=n_vars, output_size=d_model, \n",
    "              n_layers=1, hidden_size=128, activation='ELU', \n",
    "              input_layer_norm=False,\n",
    "              output_batch_size=None, device=device,\n",
    "             output_factor=1.)\n",
    "\n",
    "transformer = init_conditional_transformer(\n",
    "        n_outcomes=num_outcomes,\n",
    "        encoder=encoder,\n",
    "        n_layers=n_layers,\n",
    "        d_model=d_model,\n",
    "        d_ff=4 * d_model,\n",
    "        n_heads=n_head,\n",
    "        dropout=hparams.dropout,\n",
    "        version=hparams.use_padding,\n",
    "        use_prompt=False, #***\n",
    ")\n",
    "\n",
    "trainer = RydbergConditionalTransformerTrainer(model=transformer,\n",
    "                                  train_dataset=train_set,\n",
    "                                  test_dataset=None,\n",
    "                                  iterations=args.iterations,\n",
    "                                  lr=hparams.lr,\n",
    "                                  final_lr=hparams.final_lr,\n",
    "                                  lr_scheduler=hparams.lr_scheduler,\n",
    "                                  warmup_frac=hparams.warmup_frac,\n",
    "                                  weight_decay=hparams.wd,\n",
    "                                  batch_size=hparams.bs,\n",
    "                                  rng=rng,\n",
    "                                  smoothing=hparams.smoothing,\n",
    "                                  eval_every=args.eval_every,\n",
    "                                  transfomer_version=hparams.use_padding,\n",
    "                                  device=device)\n",
    "model_name = f'transformer_nq{nx}x{ny}_iter-{args.iterations//1000}k'"
   ]
  },
  {
   "cell_type": "code",
   "execution_count": 20,
   "id": "e619f3ab",
   "metadata": {},
   "outputs": [
    {
     "name": "stdout",
     "output_type": "stream",
     "text": [
      "Loaded trained model from ../logs/rydberg_2D/transformer_nq5x5_iter-50k.pth\n"
     ]
    }
   ],
   "source": [
    "\n",
    "if load_pretrained:\n",
    "    ckpt_path = root + f'logs/rydberg_2D/{model_name}.pth'\n",
    "    transformer = torch.load(ckpt_path)\n",
    "    transformer.to(device)\n",
    "    transformer.device = device\n",
    "    print(f'Loaded trained model from {ckpt_path}')\n",
    "else:\n",
    "    trainer.train()\n",
    "    torch.save(transformer,root + f'logs/rydberg_2D/{model_name}.pth') # You can save the trained model"
   ]
  },
  {
   "cell_type": "markdown",
   "id": "ab13e4d5-5e7e-4ebf-ad79-488e58558af7",
   "metadata": {
    "pycharm": {
     "name": "#%% md\n"
    }
   },
   "source": [
    "For every point in the phase diagram, we use the conditional generative model to generate `n_gen_samples` measurements, and then determine the phase by order parameters."
   ]
  },
  {
   "cell_type": "code",
   "execution_count": 21,
   "id": "63d0d4d5-e3a0-48ac-a0c0-134af57806f7",
   "metadata": {
    "pycharm": {
     "name": "#%%\n"
    }
   },
   "outputs": [
    {
     "data": {
      "application/vnd.jupyter.widget-view+json": {
       "model_id": "37ea9b2b39d14358b73526ff9b3be1e0",
       "version_major": 2,
       "version_minor": 0
      },
      "text/plain": [
       "Generation:   0%|          | 0/810 [00:00<?, ?it/s]"
      ]
     },
     "metadata": {},
     "output_type": "display_data"
    }
   ],
   "source": [
    "torch.manual_seed(0) # Set seed to ensure reproduction\n",
    "torch.cuda.manual_seed(0)\n",
    "n_gen_samples = 1000\n",
    "test_df = plot_df.copy()\n",
    "test_df[order_params] = np.nan\n",
    "densities = {}\n",
    "transformer.eval()\n",
    "n_qubits = nx*ny\n",
    "for idx in tqdm(test_df.index,\"Generation\"):\n",
    "    key = meta_dataset.keys[idx]\n",
    "    condition = torch.from_numpy(np.array([key])).float()\n",
    "    gen_samples = transformer.sample_batch(cond_var=condition,batch_size=n_gen_samples,\n",
    "                                               num_qubits=n_qubits)\n",
    "    density = gen_samples.mean(axis=0)\n",
    "    densities[idx] = density\n",
    "    for order_param in order_params:\n",
    "        test_df.loc[idx, order_param] = est_order_param_2D_from_measurements(gen_samples,order_param=order_param,\n",
    "                                                                             nx=nx,ny=ny)"
   ]
  },
  {
   "cell_type": "code",
   "execution_count": 22,
   "id": "32c85757-2e97-4a0e-b276-4d5dbb1407e4",
   "metadata": {
    "pycharm": {
     "name": "#%%\n"
    }
   },
   "outputs": [],
   "source": [
    "test_df['phase'] = determine_phase_2D(test_df,order_params,threshold=threshold)"
   ]
  },
  {
   "cell_type": "markdown",
   "id": "d5202b95-9d59-4a5e-897c-3faaa46fd86a",
   "metadata": {
    "pycharm": {
     "name": "#%% md\n"
    }
   },
   "source": [
    "Now we can compare the phase diagram predicted by our trained model against the ground truth phase diagram."
   ]
  },
  {
   "cell_type": "code",
   "execution_count": 23,
   "id": "891747d2-cf4f-4e81-aada-803aa52f2849",
   "metadata": {
    "pycharm": {
     "name": "#%%\n"
    }
   },
   "outputs": [
    {
     "data": {
      "image/png": "[encoded data removed]",
      "text/plain": [
       "<Figure size 295.2x324 with 1 Axes>"
      ]
     },
     "metadata": {},
     "output_type": "display_data"
    }
   ],
   "source": [
    "fig_pred = plot_phase_diagram(test_df,title=f\"Predicted Phase Diagram (Ours)\",\n",
    "                              train_idxes=train_idxes,hue_order=hue_order,)"
   ]
  },
  {
   "cell_type": "code",
   "execution_count": 24,
   "id": "63ff472d-7775-4157-a95e-2be470118ce9",
   "metadata": {},
   "outputs": [],
   "source": [
    "test_idxes = np.sort(plot_df.index[~np.isin(plot_df.index,train_idxes)])"
   ]
  },
  {
   "cell_type": "code",
   "execution_count": 25,
   "id": "2679782d-6f20-4992-9ace-8bca22d3b33d",
   "metadata": {},
   "outputs": [
    {
     "data": {
      "text/plain": [
       "0.07085891750039128"
      ]
     },
     "execution_count": 25,
     "metadata": {},
     "output_type": "execute_result"
    }
   ],
   "source": [
    "pred_order_params = test_df.loc[test_idxes][order_params].values\n",
    "true_order_params = meta_dataset.info.loc[test_idxes][order_params].values \n",
    "err_CGM = np.sqrt(np.mean((pred_order_params - true_order_params)**2))\n",
    "err_CGM"
   ]
  },
  {
   "cell_type": "code",
   "execution_count": 26,
   "id": "7f27220a-e7f8-4fde-b19f-6bf1319d101d",
   "metadata": {},
   "outputs": [],
   "source": [
    "def compute_acc(pred_df,true_df,idxes=None):\n",
    "    if idxes is not None:\n",
    "        pred_df = pred_df.loc[idxes]\n",
    "        true_df = true_df.loc[idxes]\n",
    "    V = pred_df['phase'].values == true_df['phase'].values\n",
    "    clf_acc = np.mean(V)\n",
    "    return clf_acc"
   ]
  },
  {
   "cell_type": "code",
   "execution_count": 27,
   "id": "ca6c09e8-605d-4979-b222-459961a6397b",
   "metadata": {},
   "outputs": [
    {
     "data": {
      "text/plain": [
       "0.9549295774647887"
      ]
     },
     "execution_count": 27,
     "metadata": {},
     "output_type": "execute_result"
    }
   ],
   "source": [
    "compute_acc(test_df,plot_df,test_idxes)"
   ]
  },
  {
   "cell_type": "code",
   "execution_count": 28,
   "id": "4bb02ccd-423f-4e76-9f4d-7d1ee8120553",
   "metadata": {},
   "outputs": [],
   "source": [
    "from src.models.kernels import build_dirichlet_kernel,build_NTK\n",
    "from sklearn.model_selection import cross_val_score\n",
    "from sklearn import svm\n",
    "from sklearn.kernel_ridge import KernelRidge\n",
    "from sklearn.preprocessing import StandardScaler,MinMaxScaler,Normalizer"
   ]
  },
  {
   "cell_type": "code",
   "execution_count": 29,
   "id": "4263c2a9-954e-4c9d-a48c-bc86429d4995",
   "metadata": {},
   "outputs": [],
   "source": [
    "train_keys = list(train_set.keys())\n",
    "base_kwargs = dict(nx=nx, ny=ny)\n",
    "Xs,Xs_test,Ys,Ys_test = [],[],[],[]\n",
    "for key, measurements in train_set.items():\n",
    "    x = np.array(key)\n",
    "    density = np.mean(measurements,axis=0)\n",
    "    y = [est_order_param_2D_from_measurements(measurements,order_param=order_param,**base_kwargs) for order_param in order_params]\n",
    "    # y = density\n",
    "    Xs.append(x)\n",
    "    Ys.append(y)\n",
    "Xs,Ys = np.array(Xs),np.array(Ys)\n",
    "\n",
    "scaler = MinMaxScaler()#Normalizer()\n",
    "# scaler = StandardScaler()\n",
    "Xs = scaler.fit_transform(Xs)\n",
    "Xs_test = scaler.transform(meta_dataset.keys[test_idxes])\n",
    "Ys_test = meta_dataset.info.loc[test_idxes][order_params].values"
   ]
  },
  {
   "cell_type": "markdown",
   "id": "7ed4c139-d90e-4d92-98ec-2bba4c59d377",
   "metadata": {},
   "source": [
    "+ Dirichlet Kernel"
   ]
  },
  {
   "cell_type": "code",
   "execution_count": 30,
   "id": "2ad2cd9f-73df-4b4d-9936-65bac47633b2",
   "metadata": {
    "collapsed": false,
    "jupyter": {
     "outputs_hidden": false
    },
    "pycharm": {
     "name": "#%%\n"
    }
   },
   "outputs": [],
   "source": [
    "train_dirichlet_kernel = build_dirichlet_kernel(Xs)\n",
    "test_dirichlet_kernel = build_dirichlet_kernel(Xs_test)"
   ]
  },
  {
   "cell_type": "code",
   "execution_count": 31,
   "id": "e59a516a-72b4-4529-b030-13f479461920",
   "metadata": {
    "collapsed": false,
    "jupyter": {
     "outputs_hidden": false
    },
    "pycharm": {
     "name": "#%%\n"
    }
   },
   "outputs": [],
   "source": [
    "C_dir = 1e5\n",
    "clf_dir = KernelRidge(kernel='linear',alpha=1/(2*C_dir)).fit(train_dirichlet_kernel,Ys)"
   ]
  },
  {
   "cell_type": "code",
   "execution_count": 32,
   "id": "77431734-d492-4279-b51c-1fb86e75edf9",
   "metadata": {
    "collapsed": false,
    "jupyter": {
     "outputs_hidden": false
    },
    "pycharm": {
     "name": "#%%\n"
    }
   },
   "outputs": [],
   "source": [
    "pred_dirichlet = clf_dir.predict(test_dirichlet_kernel)\n",
    "err_dirichlet = np.sqrt(np.mean((pred_dirichlet - Ys_test)**2))"
   ]
  },
  {
   "cell_type": "code",
   "execution_count": 33,
   "id": "eb55b7ad-f206-4f6c-9cf4-b4d1fec7b7cf",
   "metadata": {
    "collapsed": false,
    "jupyter": {
     "outputs_hidden": false
    },
    "pycharm": {
     "name": "#%%\n"
    }
   },
   "outputs": [
    {
     "data": {
      "text/plain": [
       "0.17912040912155988"
      ]
     },
     "execution_count": 33,
     "metadata": {},
     "output_type": "execute_result"
    }
   ],
   "source": [
    "# Error (RMSE)\n",
    "err_dirichlet"
   ]
  },
  {
   "cell_type": "markdown",
   "id": "ca9e6b89-d598-482a-b441-af7440fd7c83",
   "metadata": {},
   "source": [
    "+ Gaussian Kernel (i.e., RBF Kernel)"
   ]
  },
  {
   "cell_type": "code",
   "execution_count": 34,
   "id": "58d086bb-12c8-4ea7-b546-c9cef9ff84ba",
   "metadata": {
    "collapsed": false,
    "jupyter": {
     "outputs_hidden": false
    },
    "pycharm": {
     "name": "#%%\n"
    }
   },
   "outputs": [],
   "source": [
    "C_rbf = 1e9\n",
    "clf_rbf = KernelRidge(kernel='rbf',alpha=1/(2*C_rbf)).fit(Xs,Ys)\n",
    "pred_rbf = clf_rbf.predict(Xs_test)\n",
    "err_rbf = np.sqrt(np.mean((pred_rbf - Ys_test)**2))"
   ]
  },
  {
   "cell_type": "code",
   "execution_count": 35,
   "id": "18e42f90-44cf-4a4d-93e0-62aa1702536f",
   "metadata": {
    "collapsed": false,
    "jupyter": {
     "outputs_hidden": false
    },
    "pycharm": {
     "name": "#%%\n"
    }
   },
   "outputs": [
    {
     "data": {
      "text/plain": [
       "0.11916088090677637"
      ]
     },
     "execution_count": 35,
     "metadata": {},
     "output_type": "execute_result"
    }
   ],
   "source": [
    "err_rbf"
   ]
  },
  {
   "cell_type": "markdown",
   "id": "fe96fcd9-f662-43be-a2ba-113f5b838d82",
   "metadata": {},
   "source": [
    "+ Neural Tangent Kernel (NTK)"
   ]
  },
  {
   "cell_type": "code",
   "execution_count": 36,
   "id": "bbcd0c13-d538-47b3-974a-e4e5ce7b8ea9",
   "metadata": {},
   "outputs": [],
   "source": [
    "# We found the GPU version of Jax doesn't give stable NTK results when the regularization is very small, \n",
    "# i.e., the coefficient C is large.\n",
    "# So we let Jax to run on CPU only when computing the NTK\n",
    "os.environ[\"JAX_PLATFORM_NAME\"] = \"cpu\""
   ]
  },
  {
   "cell_type": "code",
   "execution_count": 37,
   "id": "e076426e-7821-4c22-a846-c29907a5cd1a",
   "metadata": {},
   "outputs": [
    {
     "name": "stderr",
     "output_type": "stream",
     "text": [
      "WARNING:jax._src.lib.xla_bridge:No GPU/TPU found, falling back to CPU. (Set TF_CPP_MIN_LOG_LEVEL=0 and rerun for more info.)\n"
     ]
    }
   ],
   "source": [
    "C_ntk = 50\n",
    "NTK, ntk_pred_fn = build_NTK(Xs,Ys,C=C_ntk,layers=50,normalize=False,activation='Erf')\n",
    "pred_ntk = ntk_pred_fn(Xs_test)\n",
    "err_ntk = np.sqrt(np.mean((pred_ntk - Ys_test)**2))"
   ]
  },
  {
   "cell_type": "code",
   "execution_count": 38,
   "id": "bad4f024-fdfb-4812-9f9a-174b7b50b3bd",
   "metadata": {},
   "outputs": [
    {
     "data": {
      "text/plain": [
       "0.09654722114579631"
      ]
     },
     "execution_count": 38,
     "metadata": {},
     "output_type": "execute_result"
    }
   ],
   "source": [
    "err_ntk"
   ]
  },
  {
   "cell_type": "code",
   "execution_count": 39,
   "id": "8d07eb80",
   "metadata": {},
   "outputs": [],
   "source": [
    "df = plot_df.copy()\n",
    "for order_param in order_params:\n",
    "    df[order_param] = np.nan\n",
    "keys = meta_dataset.keys[df.index.values]\n",
    "xs = scaler.transform(keys)\n",
    "\n",
    "df[order_params] = clf_rbf.predict(xs)\n",
    "df['phase'] = determine_phase_2D(df,order_params,threshold)\n",
    "df = df.sort_values(['phase'])\n",
    "df_rbf = df.copy()\n",
    "\n",
    "df = plot_df.copy()\n",
    "df[order_params] = clf_dir.predict(build_dirichlet_kernel(xs))\n",
    "df['phase'] = determine_phase_2D(df,order_params,threshold)\n",
    "df = df.sort_values(['phase'])\n",
    "df_dir = df.copy()\n",
    "\n",
    "df = plot_df.copy()\n",
    "df[order_params] = ntk_pred_fn(xs)\n",
    "df['phase'] = determine_phase_2D(df,order_params,threshold)\n",
    "df = df.sort_values(['phase'])\n",
    "df_ntk = df.copy()"
   ]
  },
  {
   "cell_type": "markdown",
   "id": "034c7628",
   "metadata": {},
   "source": [
    "**Classification Accuracy**"
   ]
  },
  {
   "cell_type": "code",
   "execution_count": 40,
   "id": "bc304dbb",
   "metadata": {},
   "outputs": [
    {
     "name": "stdout",
     "output_type": "stream",
     "text": [
      "Dirichlet Kernel: 0.75775\n",
      "Gaussian Kernel: 0.89014\n",
      "NTK: 0.90141\n"
     ]
    }
   ],
   "source": [
    "print('Dirichlet Kernel: {:.5f}'.format(compute_acc(df_dir, plot_df,test_idxes)))\n",
    "print('Gaussian Kernel: {:.5f}'.format(compute_acc(df_rbf, plot_df,test_idxes)))\n",
    "print('NTK: {:.5f}'.format(compute_acc(df_ntk, plot_df,test_idxes)))"
   ]
  },
  {
   "cell_type": "code",
   "execution_count": 41,
   "id": "a0713ec1-994d-455c-8bcb-a320c608aa9f",
   "metadata": {},
   "outputs": [
    {
     "data": {
      "image/png": "[encoded data removed]",
      "text/plain": [
       "<Figure size 295.2x324 with 1 Axes>"
      ]
     },
     "metadata": {},
     "output_type": "display_data"
    },
    {
     "data": {
      "image/png": "[encoded data removed]",
      "text/plain": [
       "<Figure size 295.2x324 with 1 Axes>"
      ]
     },
     "metadata": {},
     "output_type": "display_data"
    }
   ],
   "source": [
    "fig_rbf = plot_phase_diagram(df_rbf,title=f\"Predicted Phase Diagram (RBF Kernel)\",train_idxes=train_idxes,hue_order=hue_order,)\n",
    "fig_ntk = plot_phase_diagram(df_ntk,title=f\"Predicted Phase Diagram (NTK)\",train_idxes=train_idxes,hue_order=hue_order,)"
   ]
  },
  {
   "cell_type": "code",
   "execution_count": 42,
   "id": "f03113be-85d7-4ce6-be0f-7691617ca9e9",
   "metadata": {},
   "outputs": [],
   "source": [
    "# Optional: Save figures locally\n",
    "fig_pred.tight_layout()\n",
    "fig_true.tight_layout()\n",
    "fig_rbf.tight_layout()\n",
    "fig_ntk.tight_layout()\n",
    "fig_pred.savefig(root+'figs/paper/2D-phase-ours.pdf')\n",
    "fig_true.savefig(root+'figs/paper/2D-phase-true.pdf')\n",
    "fig_rbf.savefig(root+'figs/paper/2D-phase-rbf.pdf')\n",
    "fig_ntk.savefig(root+'figs/paper/2D-phase-ntk.pdf')"
   ]
  },
  {
   "cell_type": "code",
   "execution_count": null,
   "id": "886799c0-2909-4c16-8610-62322fdb58ef",
   "metadata": {},
   "outputs": [],
   "source": []
  }
 ],
 "metadata": {
  "kernelspec": {
   "display_name": "Python 3 (ipykernel)",
   "language": "python",
   "name": "python3"
  },
  "language_info": {
   "codemirror_mode": {
    "name": "ipython",
    "version": 3
   },
   "file_extension": ".py",
   "mimetype": "text/x-python",
   "name": "python",
   "nbconvert_exporter": "python",
   "pygments_lexer": "ipython3",
   "version": "3.9.7"
  }
 },
 "nbformat": 4,
 "nbformat_minor": 5
}
