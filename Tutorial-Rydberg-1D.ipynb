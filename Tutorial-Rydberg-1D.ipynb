{
 "cells": [
  {
   "cell_type": "markdown",
   "id": "6f6f1c1e-f66b-4466-8425-423ccaa9d0a0",
   "metadata": {
    "pycharm": {
     "name": "#%% md\n"
    }
   },
   "source": [
    "# Phase Prediction of 1D Rydberg Atom Systems with Conditional Generative Models\n",
    "Haoxiang Wang (hwang264@illinois.edu)\n",
    "\n",
    "Work done as an applied scientist intern at Amazon Braket in 2022"
   ]
  },
  {
   "cell_type": "code",
   "execution_count": 1,
   "id": "4e162833-e2d2-45a6-87dc-7ef80afba9c3",
   "metadata": {
    "pycharm": {
     "name": "#%%\n"
    }
   },
   "outputs": [],
   "source": [
    "import numpy as np\n",
    "import pickle\n",
    "from time import time\n",
    "from joblib import Parallel, delayed\n",
    "import sys\n",
    "from src.models.mlp import MLP\n",
    "from src.eval import RydbergEvaluator\n",
    "from src.eval.eval_rydberg import est_density_from_z_measurements,determine_phase_1D,est_order_param_1D,phase2img,est_phase_diagram,est_order_param_1D_fourier_from_measurements,est_order_param_1D_fourier,est_order_param_1D_from_measurements\n",
    "from src.data.loading.dataset_rydberg import RydbergDataset,unif_sample_on_grid\n",
    "# Transformer\n",
    "import argparse\n",
    "from constants import *\n",
    "from src.training.rydberg_trainers import RydbergConditionalTransformerTrainer\n",
    "from src.models.transformer import init_conditional_transformer\n",
    "from src.models.mlp import MLP\n",
    "\n",
    "\n",
    "import torch\n",
    "import pandas as pd\n",
    "import warnings\n",
    "import matplotlib.pyplot as plt\n",
    "import matplotlib\n",
    "import seaborn as sns\n",
    "from tqdm.notebook import tqdm,trange\n",
    "import os\n",
    "\n",
    "from src.utils import plot_phase_diagram\n",
    "\n",
    "warnings.filterwarnings('ignore')\n",
    "%load_ext autoreload\n",
    "%autoreload 2\n",
    "%matplotlib inline\n"
   ]
  },
  {
   "cell_type": "markdown",
   "id": "01371039-3a8d-4a71-b48e-54802b28f923",
   "metadata": {
    "pycharm": {
     "name": "#%% md\n"
    }
   },
   "source": [
    "## Rydberg Hamiltonian\n",
    "This example is about trapped Rydberg atoms, a class of highly controllable neural atoms that can be used to build programmable Ising-type quantum simulators. In Ising-type quantum simulations, a Rydberg atom is effectively considered as a two-level system consisting of a ground state $| g \\rangle$ (i.e., $|0\\rangle$) and a highly-excited state $ | r\\rangle$ (i.e., $|1 \\rangle$) called Rydberg state. Rydberg atoms can be allocated on a plane and trapped by light tweezers. In \\cite{Rydberg1D-51atoms}, Rydberg atoms are placed along a 1D lattice (i.e., a chain) equidistantly, while \\cite{Rydberg2D-256atoms} allocates the atoms as a 2D square lattice. For either a 1D or 2D lattice of Rydberg atoms, denoting the nearest-neighbor distance of atoms $a$, the Hamiltonian of such a system can be described by\n",
    "\\begin{align}\\label{eq:H-rydberg}\n",
    "    H=\\frac{\\Omega}{2} \\sum_{i} X_{i}-\\Delta \\sum_{i} N_{i}+\\sum_{i<j}\\left(\\frac{V_{0}}{|\\vec x_i- \\vec x_j|}\\right)^{6} N_{i} N_{j} ~,\n",
    "\\end{align}\n",
    "where $\\Omega$ is the Rabi frequency, $\\Delta$ is the detuning of laser, $R_b$ is a constant, $\\vec x_i$ is the location vector of the qubit $i$, and $N_i$ is the occupation number operator at site $i$, i.e., $N_i = |{r_i}\\rangle \\langle {r_i} |$\n"
   ]
  },
  {
   "cell_type": "markdown",
   "id": "826edc15-2654-41f5-a87e-6c8cb679150d",
   "metadata": {
    "jp-MarkdownHeadingCollapsed": true,
    "pycharm": {
     "name": "#%% md\n"
    },
    "tags": []
   },
   "source": [
    "## Approximate Ground States via Adiabatic Evolution\n",
    "\n",
    "The many-body ground state of a Rydberg Hamiltonian is typically obtained via \\textit{adiabatic evolution}. \n",
    "Initially, each Rydberg atom is prepared in its ground state $|0\\rangle$ (with high precision) such that the many-body state is $|0\\dots 0\\rangle$, which is the ground state of the Rydberg Hamiltonian with a large negative detuning $\\Delta$ and zero-valued $\\Omega$. Then, the detuning strength $\\Delta$ is ramped up gradually to positive values, while the Rabi frequency is turned on (i.e., $\\Omega > 0$). Clearly, the Hamiltonian of the Rydberg system is time-dependent according to a custom scheduler for $\\Delta$ and $\\Omega$. By the Adiabatic Theorem of quantum mechanics, we know as the time evolution process is slow enough, the quantum state of the system always stays closes to the ground state of the time-dependent Hamiltonian at any time step. Therefore, as the evolution process is sufficiently slow, we can end up with a prepared state that is approximately the ground state of the final Hamiltonian. "
   ]
  },
  {
   "cell_type": "markdown",
   "id": "20d379d4-3792-42de-95d2-dd41d4d19c8e",
   "metadata": {
    "pycharm": {
     "name": "#%% md\n"
    }
   },
   "source": [
    "## Load Simulation Results of Adiabatic Evolution\n",
    "\n",
    "We conducted classical simulations for the adiabatic evolution of 1D Rydberg systems using [Bloqade.jl](https://github.com/QuEraComputing/Bloqade.jl/). The code for the simulation is presented in `rydberg/`.\n",
    "\n",
    "Below, we load simulation data stored in `data/rydberg`.\n",
    "+ For each simulation run of adiabatic evolution, we initiate a Rydberg lattice with a custom atom separation (i.e., $a$ in the Hamiltonian), and tune $\\Delta, \\Omega$ according to a preset scheduler. We take multiple time steps across the evolution, performing meausurements in the Z-basis, and save the measurement data locally.\n"
   ]
  },
  {
   "cell_type": "markdown",
   "id": "9ac5d9f9-7779-4e1e-b6dd-e106664b90b2",
   "metadata": {
    "pycharm": {
     "name": "#%% md\n"
    }
   },
   "source": [
    "### Scheduler for $\\Delta, \\Omega$\n",
    "Here we show the schedulers we use for the adiabatic evolution simulation."
   ]
  },
  {
   "cell_type": "code",
   "execution_count": 2,
   "id": "87b3eef0-667a-4656-bee5-a302630a695f",
   "metadata": {
    "pycharm": {
     "name": "#%%\n"
    }
   },
   "outputs": [
    {
     "data": {
      "image/png": "[encoded data removed]",
      "text/plain": [
       "<Figure size 864x288 with 2 Axes>"
      ]
     },
     "metadata": {
      "needs_background": "light"
     },
     "output_type": "display_data"
    }
   ],
   "source": [
    "# Here we define a base schedule -- \n",
    "base_time = 3.5\n",
    "ts = np.array([0,0.2,base_time])\n",
    "omegas = np.array([0, 5, 5])\n",
    "deltas = np.array([-10, -10, 15])\n",
    "total_time = 15 # Total adiabatic evolution time of the Bloqade simulation\n",
    "# We propotionally lengthen the schedules for Omega and Delta by time_ratio = total_time/base_time\n",
    "time_ratio = total_time/base_time\n",
    "\n",
    "\n",
    "fig, (ax1, ax2) = plt.subplots(ncols = 2, figsize = (12, 4))\n",
    "ax1.plot(ts*time_ratio, omegas)\n",
    "ax1.set_ylabel(\"Ω/2π (MHz)\")\n",
    "ax1.set_title(\"Scheduler for Ω\")\n",
    "ax2.plot(ts*time_ratio, deltas)\n",
    "ax2.set_ylabel(\"Δ/2π (MHz)\")\n",
    "ax2.set_title(\"Scheduler for Δ\")\n",
    "fig.tight_layout()"
   ]
  },
  {
   "cell_type": "markdown",
   "id": "6f93b11a-94c8-4878-9481-4e76a48d964c",
   "metadata": {
    "pycharm": {
     "name": "#%% md\n"
    }
   },
   "source": [
    "Now we load simulated data."
   ]
  },
  {
   "cell_type": "code",
   "execution_count": 3,
   "id": "128640a1-a12c-48c3-a942-c322f543916d",
   "metadata": {
    "pycharm": {
     "name": "#%%\n"
    }
   },
   "outputs": [],
   "source": [
    "n_qubits = 31 # number of Rydberg atoms in the 1D lattice\n",
    "\n",
    "dim=1 # dimension of the system\n",
    "ny = 1 # since we are working in 1D, this variable is fixed to 1\n",
    "nx = n_qubits # effectively, we are working on a 2D lattice of dimensions nx*ny, where nx=n_qubits and ny=1.\n",
    "z2_threshold=0.7 # threshold for the Z2 order parameter to determine a state is in Z2 phase\n",
    "z3_threshold = 0.6 # threshold for the Z3 order parameter to determine a state is in Z3 phase\n",
    "\n",
    "# We load simulation data for the lattice defined above with the adiabatic evolution scheduler preset above.\n",
    "folder = f'data/rydberg/1D-Phase_{nx}/{float(np.round(total_time,2))}µs/'\n",
    "\n",
    "# extra variables we want the conditional generative variable to condition on, except for \"nx\", \"ny\", \"interaction_range\".\n",
    "# detuning = Delta/Omega\n",
    "extra_variables = [\"detuning\",] \n",
    "meta_dataset = RydbergDataset(dim=dim,nx = nx, ny=ny, folder=folder,n_threads=20, \n",
    "                                         var_name='interaction_range',variables = extra_variables) \n",
    "meta_dataset.est_order_params()\n",
    "meta_dataset.info[\"phase\" ] = determine_phase_1D(meta_dataset.info[\"Z2\"], meta_dataset.info[\"Z3\"],z2_threshold=z2_threshold,\n",
    "                                                z3_threshold=z3_threshold\n",
    "                                            )"
   ]
  },
  {
   "cell_type": "markdown",
   "id": "c913aca6-23da-4fcf-a3a9-4df4ee079a64",
   "metadata": {
    "pycharm": {
     "name": "#%% md\n"
    }
   },
   "source": [
    "## Phase Diagram of 1D Rydberg Lattice\n",
    "\n"
   ]
  },
  {
   "cell_type": "code",
   "execution_count": 4,
   "id": "4da8d082-38cd-439d-8cda-2a85f455b4cb",
   "metadata": {
    "pycharm": {
     "name": "#%%\n"
    }
   },
   "outputs": [
    {
     "data": {
      "image/png": "[encoded data removed]",
      "text/plain": [
       "<Figure size 295.2x324 with 1 Axes>"
      ]
     },
     "metadata": {},
     "output_type": "display_data"
    }
   ],
   "source": [
    "sns.set_style('white')\n",
    "hue_order = ['Disordered','Z2','Z3']\n",
    "plot_df = meta_dataset.info.copy()\n",
    "plot_df = plot_df.loc[(plot_df['detuning'] >=-1) & (plot_df['interaction_range'] <= 2.8) & (plot_df['interaction_range'] > 1)]\n",
    "fig = plot_phase_diagram(plot_df,title=f\"1D Lattice of {n_qubits} Rydberg Atoms: Phase Diagram\",hue_order = hue_order,\n",
    "                        legend=True)"
   ]
  },
  {
   "cell_type": "markdown",
   "id": "0bdf93c4-2293-4c17-b5c4-df74fa2a15b6",
   "metadata": {
    "pycharm": {
     "name": "#%% md\n"
    }
   },
   "source": [
    "## Prepare Training Set\n",
    "\n",
    "We split the phase diagram by grids (defined by `x_bins` and `y_bins`), and sample one point in each grid for training. Each point represents the ground state of one quantum system with the corresponding variables ($a,\\Delta,\\Omega$)."
   ]
  },
  {
   "cell_type": "code",
   "execution_count": 5,
   "id": "2ce98876-ddc0-4906-b433-04ea3e77d4fa",
   "metadata": {
    "pycharm": {
     "name": "#%%\n"
    }
   },
   "outputs": [],
   "source": [
    "\n",
    "def prepare_train_set(meta_dataset, df=None, n_measurements:int = -1, x_bins=10,y_bins=10):\n",
    "    train_set = {}\n",
    "    if df is None: df = meta_dataset.info\n",
    "    train_idxes, train_df = unif_sample_on_grid(df.copy(),x_bins=x_bins,y_bins=y_bins)#,x_range=(0.4,1.78),y_range=(1.4,2.4))\n",
    "    # train_idxes = plot_df.index.values\n",
    "    train_keys = meta_dataset.keys[train_idxes]\n",
    "    train_set.update(meta_dataset.prepare_train_set(train_keys,n_measurements=n_measurements))\n",
    "    return train_set, train_idxes\n",
    "    "
   ]
  },
  {
   "cell_type": "code",
   "execution_count": 6,
   "id": "36eea258",
   "metadata": {},
   "outputs": [],
   "source": [
    "# Decide to load a pretrained model or train from scratch\n",
    "load_pretrained = True"
   ]
  },
  {
   "cell_type": "code",
   "execution_count": 7,
   "id": "c41f2725-555e-4986-ac74-fe125952f40a",
   "metadata": {
    "pycharm": {
     "name": "#%%\n"
    }
   },
   "outputs": [],
   "source": [
    "if load_pretrained:\n",
    "    # If loading a pretrained model, we need to also load the training set that \n",
    "    # it was trained on (specified by sampled indices of the meta_dataset.info DataFrame)\n",
    "    train_idxes = np.load('logs/rydberg_1D/train_idxes.npy')\n",
    "    train_set = pickle.load(open('logs/rydberg_1D/train_set.pkl','rb'))\n",
    "else:\n",
    "    # If train from scratch, we sample training data from the phase diagram specified by plot_df\n",
    "    train_set, train_idxes = prepare_train_set(meta_dataset,df=plot_df)\n",
    "    ## If you want to save this training set, you can un-comment the following lines:\n",
    "    # np.save('logs/rydberg_1D/train_idxes.npy',train_idxes)\n",
    "    # pickle.dump(train_set, open('logs/rydberg_1D/train_set.pkl','wb'))\n",
    "    # pickle.dump(meta_dataset, open('logs/rydberg_1D/meta_dataset.pkl','wb'))"
   ]
  },
  {
   "cell_type": "markdown",
   "id": "ac9322fa-271d-40ae-a194-c22ac2dd1390",
   "metadata": {
    "pycharm": {
     "name": "#%% md\n"
    }
   },
   "source": [
    "+ The darker points are the sysmtems used for training."
   ]
  },
  {
   "cell_type": "code",
   "execution_count": 8,
   "id": "f76f6d9d-9356-41d7-bfb3-2d1b08e13be3",
   "metadata": {
    "pycharm": {
     "name": "#%%\n"
    }
   },
   "outputs": [
    {
     "data": {
      "image/png": "[encoded data removed]",
      "text/plain": [
       "<Figure size 295.2x324 with 1 Axes>"
      ]
     },
     "metadata": {},
     "output_type": "display_data"
    }
   ],
   "source": [
    "fig_true = plot_phase_diagram(plot_df,title=f\"True Phase Diagram\",train_idxes=train_idxes,hue_order=hue_order,\n",
    "                            legend=True)"
   ]
  },
  {
   "cell_type": "markdown",
   "id": "6456977d-eeec-4491-b06a-21214cf8235a",
   "metadata": {
    "pycharm": {
     "name": "#%% md\n"
    }
   },
   "source": [
    "## Train a Conditional Generative Model\n",
    "\n",
    "We first define some hyperparameters as follows"
   ]
  },
  {
   "cell_type": "code",
   "execution_count": 9,
   "id": "82c67731-51f4-4880-aa48-c16f8e530ea4",
   "metadata": {},
   "outputs": [],
   "source": [
    "def parse_args(args=[]):\n",
    "    parser = argparse.ArgumentParser()\n",
    "    parser.add_argument('--data-dir', type=str, default='logs/rydberg/debug/')\n",
    "    parser.add_argument('--dim',type=int,default=1)\n",
    "    parser.add_argument('--nx',type=int,default=19)\n",
    "    parser.add_argument('--ny',type=int,default=1)\n",
    "    parser.add_argument('--total_time',type=float,default=6)\n",
    "    parser.add_argument('--tf-arch', type=str, default='transformer_l4_d128_h4')\n",
    "    parser.add_argument('--train-id', type=str, default=\"debug\")\n",
    "    parser.add_argument('--reps', type=int, default=1)\n",
    "    parser.add_argument('--ns', type=int, default=800, help='number of samples per hamiltonian')\n",
    "    parser.add_argument('--iterations', type=int, default=50000, help=\"training iterations\")\n",
    "    parser.add_argument('--eval-every', type=int, default=100)\n",
    "    parser.add_argument('--eval-samples', type=int, default=10000, help='number of generated samples for evaluation')\n",
    "    parser.add_argument('--k', type=int, default=1, help='number of buckets for median of means estimation')\n",
    "    parser.add_argument('--n_cpu', type=int, default=8, help='number of cpu threads to use during batch generation')\n",
    "    parser.add_argument('--verbose', type=int, default=1, choices=[0, 1])\n",
    "    parser.add_argument('--epoch-mode', type=int, default=1, choices=[0, 1])\n",
    "    parser.add_argument('--condition-mode', type=int, default=0, choices=[0, 1])\n",
    "    parser.add_argument('--seed', type=int, default=None)\n",
    "    return parser.parse_args(args)\n",
    "\n",
    "def get_hyperparams(**kwargs):\n",
    "    hparams = argparse.Namespace(\n",
    "        lr=1e-3,\n",
    "        wd=0,\n",
    "        bs=512,\n",
    "        dropout=0.0,\n",
    "        lr_scheduler=WARMUP_COSINE_SCHEDULER,\n",
    "        warmup_frac=0.,\n",
    "        final_lr=1e-7,\n",
    "        smoothing=0.0,\n",
    "        use_padding=0,\n",
    "        val_frac=0.25,\n",
    "        cattn=0\n",
    "    )\n",
    "\n",
    "    for k, v in kwargs.items():\n",
    "        setattr(hparams, k, v)\n",
    "\n",
    "    return hparams\n",
    "args = parse_args()\n",
    "hparams = get_hyperparams()"
   ]
  },
  {
   "cell_type": "markdown",
   "id": "f5945e73-bbf0-4b25-8214-f68f42d40331",
   "metadata": {},
   "source": [
    "### Select Device (GPU/CPU)\n",
    "`gpu_idx < 0`: Use CPU\n",
    "\n",
    "`gpu_idx > 0`: Use NVIDIA GPU"
   ]
  },
  {
   "cell_type": "code",
   "execution_count": 10,
   "id": "54a933f0-b42e-48cd-814e-c1188ad8a7ce",
   "metadata": {},
   "outputs": [],
   "source": [
    "gpu_idx = 2\n",
    "device = torch.device(f\"cuda:{gpu_idx}\") if gpu_idx >= 0 else torch.device('cpu')\n"
   ]
  },
  {
   "cell_type": "code",
   "execution_count": 11,
   "id": "6e26e8b1-7ae4-454f-b6ec-dbff4d7dec02",
   "metadata": {},
   "outputs": [],
   "source": [
    "num_outcomes = 2 # for rydberg systems\n",
    "n_vars = len(list(train_set.keys())[0])\n",
    "\n",
    "\n",
    "rng = np.random.default_rng(seed=args.seed)\n",
    "# setup transformer\n",
    "d_model = TF_ARCHS[args.tf_arch]['d_model']\n",
    "n_head = TF_ARCHS[args.tf_arch]['n_head']\n",
    "n_layers = TF_ARCHS[args.tf_arch]['n_layers']\n",
    "assert d_model % n_head == 0, 'd_model must be integer multiple of n_head!'"
   ]
  },
  {
   "cell_type": "markdown",
   "id": "68222403-40b4-4318-b583-93366f724e0a",
   "metadata": {
    "pycharm": {
     "name": "#%% md\n"
    }
   },
   "source": [
    "We construct a MLP (fully-connected net) as the encoder and a transformer as the generative model, and then train the model"
   ]
  },
  {
   "cell_type": "code",
   "execution_count": 12,
   "id": "8d218e16",
   "metadata": {
    "pycharm": {
     "name": "#%%\n"
    }
   },
   "outputs": [],
   "source": [
    "encoder = MLP(input_size=n_vars, output_size=d_model, \n",
    "              n_layers=1, hidden_size=128, activation='ELU', \n",
    "              input_layer_norm=False,\n",
    "              output_batch_size=None, device=device,\n",
    "             output_factor=1.)\n",
    "\n",
    "transformer = init_conditional_transformer(\n",
    "        n_outcomes=num_outcomes,\n",
    "        encoder=encoder,\n",
    "        n_layers=n_layers,\n",
    "        d_model=d_model,\n",
    "        d_ff=4 * d_model,\n",
    "        n_heads=n_head,\n",
    "        dropout=hparams.dropout,\n",
    "        version=hparams.use_padding,\n",
    "        use_prompt=False, #***\n",
    ")"
   ]
  },
  {
   "cell_type": "code",
   "execution_count": 13,
   "id": "a2f6592a",
   "metadata": {
    "pycharm": {
     "name": "#%%\n"
    }
   },
   "outputs": [
    {
     "name": "stdout",
     "output_type": "stream",
     "text": [
      "Training iterations: 50000\n"
     ]
    }
   ],
   "source": [
    "trainer = RydbergConditionalTransformerTrainer(model=transformer,\n",
    "                                  train_dataset=train_set,\n",
    "                                  test_dataset=None,\n",
    "                                  iterations=args.iterations,\n",
    "                                  lr=hparams.lr,\n",
    "                                  final_lr=hparams.final_lr,\n",
    "                                  lr_scheduler=hparams.lr_scheduler,\n",
    "                                  warmup_frac=hparams.warmup_frac,\n",
    "                                  weight_decay=hparams.wd,\n",
    "                                  batch_size=hparams.bs,\n",
    "                                  rng=rng,\n",
    "                                  smoothing=hparams.smoothing,\n",
    "                                  eval_every=args.eval_every,\n",
    "                                  transfomer_version=hparams.use_padding,\n",
    "                                  device=device)\n",
    "model_name = f'transformer_nq-{n_qubits}_iter-{args.iterations//1000}k'\n",
    "print('Training iterations:', args.iterations)"
   ]
  },
  {
   "cell_type": "code",
   "execution_count": 14,
   "id": "cae779ee",
   "metadata": {
    "pycharm": {
     "name": "#%%\n"
    }
   },
   "outputs": [
    {
     "name": "stdout",
     "output_type": "stream",
     "text": [
      "Loaded trained model from logs/rydberg_1D/transformer_nq-31_iter-50k.pth\n"
     ]
    }
   ],
   "source": [
    "if load_pretrained:\n",
    "    ckpt_path = f'logs/rydberg_1D/{model_name}.pth'\n",
    "    transformer = torch.load(ckpt_path)\n",
    "    print(f'Loaded trained model from {ckpt_path}')\n",
    "else:\n",
    "    trainer.train()\n",
    "    torch.save(transformer,f'logs/rydberg_1D/{model_name}.pth') # You can save the trained model"
   ]
  },
  {
   "cell_type": "markdown",
   "id": "ab13e4d5-5e7e-4ebf-ad79-488e58558af7",
   "metadata": {
    "pycharm": {
     "name": "#%% md\n"
    }
   },
   "source": [
    "For every point in the phase diagram, we use the conditional generative model to generate `n_gen_samples` measurements, and then determine the phase by order parameters.\n",
    "\n",
    "The predicted order parameters & phases are saved in the DataFrame `test_df`"
   ]
  },
  {
   "cell_type": "code",
   "execution_count": 15,
   "id": "e79976ae",
   "metadata": {
    "pycharm": {
     "name": "#%%\n"
    }
   },
   "outputs": [],
   "source": [
    "n_gen_samples = 1000\n",
    "order_params = ['Z2','Z3']"
   ]
  },
  {
   "cell_type": "markdown",
   "id": "b056e2ec",
   "metadata": {},
   "source": [
    "**Note.** the measurement generation of the trained model has randomness -- so each run may give slightly different results"
   ]
  },
  {
   "cell_type": "code",
   "execution_count": 16,
   "id": "4fba7b87-a9d5-4bc6-acb2-dfac8efd391a",
   "metadata": {
    "pycharm": {
     "name": "#%%\n"
    }
   },
   "outputs": [
    {
     "data": {
      "application/vnd.jupyter.widget-view+json": {
       "model_id": "2a45b8c638754c7c9e6fe4b6bf2187c0",
       "version_major": 2,
       "version_minor": 0
      },
      "text/plain": [
       "Test System:   0%|          | 0/1152 [00:00<?, ?it/s]"
      ]
     },
     "metadata": {},
     "output_type": "display_data"
    }
   ],
   "source": [
    "torch.manual_seed(0) # Set seed to ensure reproduction\n",
    "torch.cuda.manual_seed(0)\n",
    "test_df = plot_df.copy()\n",
    "test_df[order_params] = np.nan\n",
    "densities = {}\n",
    "transformer.eval()\n",
    "for idx in tqdm(test_df.index, \"Test System\"):\n",
    "    key = meta_dataset.keys[idx]\n",
    "    condition = torch.from_numpy(np.array([key])).float()\n",
    "    gen_samples = transformer.sample_batch(cond_var=condition,batch_size=n_gen_samples,\n",
    "                                               num_qubits=n_qubits)\n",
    "    density = gen_samples.mean(axis=0)\n",
    "    densities[idx] = density\n",
    "    for order_param in order_params:\n",
    "        test_df.loc[idx, order_param] = est_order_param_1D_from_measurements(gen_samples,order_param=order_param,\n",
    "                                                                             nx=n_qubits)\n",
    "test_df['phase'] = determine_phase_1D(test_df['Z2'].values, test_df['Z3'].values,z3_threshold=z3_threshold,z2_threshold=z2_threshold)\n",
    "test_df = test_df.sort_values(['phase'])"
   ]
  },
  {
   "cell_type": "markdown",
   "id": "d5202b95-9d59-4a5e-897c-3faaa46fd86a",
   "metadata": {
    "pycharm": {
     "name": "#%% md\n"
    }
   },
   "source": [
    "Now we can compare the phase diagram predicted by our trained model against the ground truth phase diagram."
   ]
  },
  {
   "cell_type": "code",
   "execution_count": 17,
   "id": "891747d2-cf4f-4e81-aada-803aa52f2849",
   "metadata": {
    "pycharm": {
     "name": "#%%\n"
    }
   },
   "outputs": [
    {
     "data": {
      "image/png": "[encoded data removed]",
      "text/plain": [
       "<Figure size 295.2x324 with 1 Axes>"
      ]
     },
     "metadata": {},
     "output_type": "display_data"
    }
   ],
   "source": [
    "fig_pred = plot_phase_diagram(test_df,title=f\"Predicted Phase Diagram (Ours)\",\n",
    "                              train_idxes=train_idxes,hue_order=hue_order,)"
   ]
  },
  {
   "cell_type": "markdown",
   "id": "e07dbecb",
   "metadata": {},
   "source": [
    "Let us exclude the training points over the phase diagram -- to obtain a test set for quantative evaluation"
   ]
  },
  {
   "cell_type": "code",
   "execution_count": 18,
   "id": "84adc83a-1cfe-4a4e-b3ce-00f485c60b97",
   "metadata": {},
   "outputs": [],
   "source": [
    "test_idxes = np.sort(plot_df.index[~np.isin(plot_df.index,train_idxes)])"
   ]
  },
  {
   "cell_type": "markdown",
   "id": "c9edaa59",
   "metadata": {},
   "source": [
    "The prediction error of our model on test points in the phase diagram"
   ]
  },
  {
   "cell_type": "code",
   "execution_count": 19,
   "id": "13dba0a4-36d4-457d-ade3-05b135ae208a",
   "metadata": {},
   "outputs": [
    {
     "data": {
      "text/plain": [
       "0.019946439887680027"
      ]
     },
     "execution_count": 19,
     "metadata": {},
     "output_type": "execute_result"
    }
   ],
   "source": [
    "pred_order_params = test_df.loc[test_idxes][order_params].values\n",
    "true_order_params = meta_dataset.info.loc[test_idxes][order_params].values \n",
    "err_CGM = np.sqrt(np.mean((pred_order_params - true_order_params)**2))\n",
    "err_CGM"
   ]
  },
  {
   "cell_type": "markdown",
   "id": "d79a9267",
   "metadata": {},
   "source": [
    "Classification accuracy on test points"
   ]
  },
  {
   "cell_type": "code",
   "execution_count": 20,
   "id": "7f27220a-e7f8-4fde-b19f-6bf1319d101d",
   "metadata": {},
   "outputs": [],
   "source": [
    "def compute_acc(pred_df,true_df,idxes=None):\n",
    "    if idxes is not None:\n",
    "        pred_df = pred_df.loc[idxes]\n",
    "        true_df = true_df.loc[idxes]\n",
    "    V = pred_df['phase'].values == true_df['phase'].values\n",
    "    clf_acc = np.mean(V)\n",
    "    return clf_acc"
   ]
  },
  {
   "cell_type": "code",
   "execution_count": 21,
   "id": "5392acef-2fb4-4608-a453-5f1cc1c1b237",
   "metadata": {},
   "outputs": [
    {
     "data": {
      "text/plain": [
       "0.9828897338403042"
      ]
     },
     "execution_count": 21,
     "metadata": {},
     "output_type": "execute_result"
    }
   ],
   "source": [
    "compute_acc(test_df,plot_df,test_idxes)"
   ]
  },
  {
   "cell_type": "code",
   "execution_count": 22,
   "id": "229eab7f-fb44-4a6f-8b84-d575115ff80c",
   "metadata": {},
   "outputs": [],
   "source": [
    "from src.models.kernels import build_dirichlet_kernel,build_NTK\n",
    "from sklearn.model_selection import cross_val_score\n",
    "from sklearn import svm\n",
    "from sklearn.kernel_ridge import KernelRidge\n",
    "from sklearn.preprocessing import StandardScaler,MinMaxScaler,Normalizer"
   ]
  },
  {
   "cell_type": "markdown",
   "id": "0805c4ca",
   "metadata": {},
   "source": [
    "Build training data and test data for kernels"
   ]
  },
  {
   "cell_type": "code",
   "execution_count": 23,
   "id": "c9ed76bd-5593-4c9a-9589-fee7e834cbdf",
   "metadata": {
    "collapsed": false,
    "jupyter": {
     "outputs_hidden": false
    },
    "pycharm": {
     "name": "#%%\n"
    }
   },
   "outputs": [],
   "source": [
    "train_keys = list(train_set.keys())\n",
    "base_kwargs = {}\n",
    "Xs,Xs_test,Ys,Ys_test = [],[],[],[]\n",
    "for key, measurements in train_set.items():\n",
    "    x = np.array(key)\n",
    "    density = np.mean(measurements,axis=0)\n",
    "    y = [est_order_param_1D_from_measurements(measurements,order_param=order_param,**base_kwargs) for order_param in order_params]\n",
    "    # y = density\n",
    "    Xs.append(x)\n",
    "    Ys.append(y)\n",
    "Xs,Ys = np.array(Xs),np.array(Ys)\n",
    "\n",
    "scaler = MinMaxScaler()#Normalizer()\n",
    "# scaler = StandardScaler()\n",
    "Xs = scaler.fit_transform(Xs)\n",
    "Xs_test = scaler.transform(meta_dataset.keys[test_idxes])\n",
    "Ys_test = meta_dataset.info.loc[test_idxes][order_params].values"
   ]
  },
  {
   "cell_type": "markdown",
   "id": "a0970747",
   "metadata": {},
   "source": [
    "#### Dirichlet Kernel"
   ]
  },
  {
   "cell_type": "code",
   "execution_count": 24,
   "id": "55927dd9-e4ba-4746-934d-945b4efd4c80",
   "metadata": {
    "collapsed": false,
    "jupyter": {
     "outputs_hidden": false
    },
    "pycharm": {
     "name": "#%%\n"
    }
   },
   "outputs": [],
   "source": [
    "train_dirichlet_kernel = build_dirichlet_kernel(Xs)\n",
    "test_dirichlet_kernel = build_dirichlet_kernel(Xs_test)"
   ]
  },
  {
   "cell_type": "code",
   "execution_count": 25,
   "id": "d9c20686-8342-4ef6-92f8-393cccea48a6",
   "metadata": {
    "collapsed": false,
    "jupyter": {
     "outputs_hidden": false
    },
    "pycharm": {
     "name": "#%%\n"
    }
   },
   "outputs": [],
   "source": [
    "C_dir = 1e1\n",
    "clf_dir = KernelRidge(kernel='linear',alpha=1/(2*C_dir)).fit(train_dirichlet_kernel,Ys)"
   ]
  },
  {
   "cell_type": "code",
   "execution_count": 26,
   "id": "29280693-c61e-4dd5-a250-944ca6fccbbb",
   "metadata": {
    "collapsed": false,
    "jupyter": {
     "outputs_hidden": false
    },
    "pycharm": {
     "name": "#%%\n"
    }
   },
   "outputs": [],
   "source": [
    "pred_dirichlet = clf_dir.predict(test_dirichlet_kernel)\n",
    "err_dirichlet = np.sqrt(np.mean((pred_dirichlet - Ys_test)**2))"
   ]
  },
  {
   "cell_type": "code",
   "execution_count": 27,
   "id": "3ce740a4-6e2c-49bf-89bd-cb19ffb8df85",
   "metadata": {
    "collapsed": false,
    "jupyter": {
     "outputs_hidden": false
    },
    "pycharm": {
     "name": "#%%\n"
    }
   },
   "outputs": [
    {
     "name": "stdout",
     "output_type": "stream",
     "text": [
      "Prediction Error of Order Parameters (in RMSE): 0.1137680379423856\n"
     ]
    }
   ],
   "source": [
    "print('Prediction Error of Order Parameters (in RMSE):', err_dirichlet)"
   ]
  },
  {
   "cell_type": "markdown",
   "id": "fb8497b7",
   "metadata": {},
   "source": [
    "#### Gaussian Kernel (i.e., RBF Kernel)"
   ]
  },
  {
   "cell_type": "code",
   "execution_count": 28,
   "id": "b9dd3ac6-07fa-48da-8d63-3f14cfac1ee0",
   "metadata": {
    "collapsed": false,
    "jupyter": {
     "outputs_hidden": false
    },
    "pycharm": {
     "name": "#%%\n"
    }
   },
   "outputs": [],
   "source": [
    "C_rbf = 4e8\n",
    "clf_rbf = KernelRidge(kernel='rbf',alpha=1/(2*C_rbf)).fit(Xs,Ys)\n",
    "pred_rbf = clf_rbf.predict(Xs_test)\n",
    "err_rbf = np.sqrt(np.mean((pred_rbf - Ys_test)**2))"
   ]
  },
  {
   "cell_type": "code",
   "execution_count": 29,
   "id": "6527c2f9-3fb4-4604-861c-b7d21aa5e05d",
   "metadata": {
    "collapsed": false,
    "jupyter": {
     "outputs_hidden": false
    },
    "pycharm": {
     "name": "#%%\n"
    }
   },
   "outputs": [
    {
     "name": "stdout",
     "output_type": "stream",
     "text": [
      "Prediction Error of Order Parameters (in RMSE): 0.05505370764087319\n"
     ]
    }
   ],
   "source": [
    "print('Prediction Error of Order Parameters (in RMSE):', err_rbf)"
   ]
  },
  {
   "cell_type": "markdown",
   "id": "44fd4c47",
   "metadata": {},
   "source": [
    "#### Neural Tangent Kernel (NTK)"
   ]
  },
  {
   "cell_type": "code",
   "execution_count": 30,
   "id": "06ce43b0-738d-4871-9d10-c9a9f9300ca6",
   "metadata": {},
   "outputs": [],
   "source": [
    "# We found the GPU version of Jax doesn't give stable NTK results when the regularization is very small, \n",
    "# i.e., the coefficient C is large.\n",
    "# So we let Jax to run on CPU only when computing the NTK\n",
    "os.environ[\"JAX_PLATFORM_NAME\"] = \"cpu\""
   ]
  },
  {
   "cell_type": "code",
   "execution_count": 31,
   "id": "879ff2eb-77b1-4629-8a08-39a8e4cc1e0f",
   "metadata": {},
   "outputs": [
    {
     "name": "stderr",
     "output_type": "stream",
     "text": [
      "WARNING:jax._src.lib.xla_bridge:No GPU/TPU found, falling back to CPU. (Set TF_CPP_MIN_LOG_LEVEL=0 and rerun for more info.)\n"
     ]
    }
   ],
   "source": [
    "C_ntk = 1000\n",
    "NTK, ntk_pred_fn = build_NTK(Xs,Ys,C=C_ntk,layers=50,normalize=False,activation='Erf')\n",
    "pred_ntk = ntk_pred_fn(Xs_test)\n",
    "err_ntk = np.sqrt(np.mean((pred_ntk - Ys_test)**2))"
   ]
  },
  {
   "cell_type": "code",
   "execution_count": 32,
   "id": "1f40258d-6d67-47f3-bf4a-687867806393",
   "metadata": {},
   "outputs": [
    {
     "name": "stdout",
     "output_type": "stream",
     "text": [
      "Prediction Error of Order Parameters: 0.053431481429118494\n"
     ]
    }
   ],
   "source": [
    "print('Prediction Error of Order Parameters:', err_ntk)"
   ]
  },
  {
   "cell_type": "markdown",
   "id": "70b62a1c",
   "metadata": {},
   "source": [
    "Obtain predictions of kernel methods for all points in the phase diagram"
   ]
  },
  {
   "cell_type": "code",
   "execution_count": 33,
   "id": "9a0cc3de-0dbb-4551-8341-f671b94315e7",
   "metadata": {},
   "outputs": [],
   "source": [
    "df = plot_df.copy()\n",
    "# df = df.loc[df[xlabel] > 0]\n",
    "for order_param in order_params:\n",
    "    df[order_param] = np.nan\n",
    "keys = meta_dataset.keys[df.index.values]\n",
    "xs = scaler.transform(keys)\n",
    "\n",
    "df[order_params] = clf_rbf.predict(xs)\n",
    "df['phase'] = determine_phase_1D(df['Z2'].values, df['Z3'].values,z3_threshold=z3_threshold,z2_threshold=z2_threshold)\n",
    "df = df.sort_values(['phase'])\n",
    "df_rbf = df.copy()\n",
    "\n",
    "df = plot_df.copy()\n",
    "df[order_params] = clf_dir.predict(build_dirichlet_kernel(xs))\n",
    "df['phase'] = determine_phase_1D(df['Z2'].values, df['Z3'].values,z3_threshold=z3_threshold,z2_threshold=z2_threshold)\n",
    "df = df.sort_values(['phase'])\n",
    "df_dir = df.copy()"
   ]
  },
  {
   "cell_type": "code",
   "execution_count": 34,
   "id": "00e2bb84-9fd6-4f9d-8813-5e121c3a30b9",
   "metadata": {},
   "outputs": [],
   "source": [
    "df = plot_df.copy()\n",
    "df[order_params] = ntk_pred_fn(xs)\n",
    "df['phase'] = determine_phase_1D(df['Z2'].values, df['Z3'].values,z3_threshold=z3_threshold,z2_threshold=z2_threshold)\n",
    "df = df.sort_values(['phase'])\n",
    "df_ntk = df.copy()"
   ]
  },
  {
   "cell_type": "markdown",
   "id": "53cc1e50",
   "metadata": {},
   "source": [
    "Classification Accuracy"
   ]
  },
  {
   "cell_type": "code",
   "execution_count": 35,
   "id": "192971f7",
   "metadata": {},
   "outputs": [
    {
     "name": "stdout",
     "output_type": "stream",
     "text": [
      "Dirichlet Kernel: 0.84791\n",
      "Gaussian Kernel: 0.95057\n",
      "NTK: 0.95817\n"
     ]
    }
   ],
   "source": [
    "print('Dirichlet Kernel: {:.5f}'.format(compute_acc(df_dir, plot_df,test_idxes)))\n",
    "print('Gaussian Kernel: {:.5f}'.format(compute_acc(df_rbf, plot_df,test_idxes)))\n",
    "print('NTK: {:.5f}'.format(compute_acc(df_ntk, plot_df,test_idxes)))"
   ]
  },
  {
   "cell_type": "markdown",
   "id": "0c231448",
   "metadata": {},
   "source": [
    "Predicted Phase Diagrams"
   ]
  },
  {
   "cell_type": "code",
   "execution_count": 36,
   "id": "06663585",
   "metadata": {},
   "outputs": [
    {
     "data": {
      "image/png": "[encoded data removed]",
      "text/plain": [
       "<Figure size 295.2x324 with 1 Axes>"
      ]
     },
     "metadata": {},
     "output_type": "display_data"
    }
   ],
   "source": [
    "fig_dir = plot_phase_diagram(df_dir,title=f\"Predicted Phase Diagram (Dirichlet Kernel)\",train_idxes=train_idxes,\n",
    "                            hue_order = ['Disordered','Z2','Z3'])"
   ]
  },
  {
   "cell_type": "code",
   "execution_count": 37,
   "id": "f51bdfe2-d281-4ada-a7cf-bd49d771ff2f",
   "metadata": {},
   "outputs": [
    {
     "data": {
      "image/png": "[encoded data removed]",
      "text/plain": [
       "<Figure size 295.2x324 with 1 Axes>"
      ]
     },
     "metadata": {},
     "output_type": "display_data"
    }
   ],
   "source": [
    "fig_rbf = plot_phase_diagram(df_rbf,title=f\"Predicted Phase Diagram (Gaussian Kernel)\",train_idxes=train_idxes,\n",
    "                            hue_order = ['Disordered','Z2','Z3'],)"
   ]
  },
  {
   "cell_type": "code",
   "execution_count": 38,
   "id": "e1b7b40f-4e03-46d9-b3a0-1e3545174bdb",
   "metadata": {},
   "outputs": [
    {
     "data": {
      "image/png": "[encoded data removed]",
      "text/plain": [
       "<Figure size 295.2x324 with 1 Axes>"
      ]
     },
     "metadata": {},
     "output_type": "display_data"
    }
   ],
   "source": [
    "fig_ntk = plot_phase_diagram(df_ntk,title=f\"Predicted Phase Diagram (NTK)\",train_idxes=train_idxes,\n",
    "                            hue_order = ['Disordered','Z2','Z3'])"
   ]
  },
  {
   "cell_type": "markdown",
   "id": "029a3597",
   "metadata": {},
   "source": [
    "Save Figures (Optional)"
   ]
  },
  {
   "cell_type": "code",
   "execution_count": 39,
   "id": "c8a871ea-f4ee-4119-abbd-62d76db70a15",
   "metadata": {},
   "outputs": [],
   "source": [
    "fig_pred.tight_layout()\n",
    "fig_true.tight_layout()\n",
    "fig_rbf.tight_layout()\n",
    "fig_ntk.tight_layout()\n",
    "fig_pred.savefig('figs/paper/1D-phase-ours.pdf')\n",
    "fig_true.savefig('figs/paper/1D-phase-true.pdf')\n",
    "fig_rbf.savefig('figs/paper/1D-phase-rbf.pdf')\n",
    "fig_ntk.savefig('figs/paper/1D-phase-ntk.pdf')"
   ]
  }
 ],
 "metadata": {
  "kernelspec": {
   "display_name": "Python 3 (ipykernel)",
   "language": "python",
   "name": "python3"
  },
  "language_info": {
   "codemirror_mode": {
    "name": "ipython",
    "version": 3
   },
   "file_extension": ".py",
   "mimetype": "text/x-python",
   "name": "python",
   "nbconvert_exporter": "python",
   "pygments_lexer": "ipython3",
   "version": "3.9.7"
  }
 },
 "nbformat": 4,
 "nbformat_minor": 5
}
